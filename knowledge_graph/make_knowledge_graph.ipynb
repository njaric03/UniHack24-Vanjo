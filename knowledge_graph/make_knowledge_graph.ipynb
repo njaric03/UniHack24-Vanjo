{
 "cells": [
  {
   "cell_type": "code",
   "metadata": {
    "ExecuteTime": {
     "end_time": "2024-11-08T21:18:49.519260Z",
     "start_time": "2024-11-08T21:18:49.512406Z"
    }
   },
   "source": [
    "import networkx as nx\n",
    "import pandas as pd\n",
    "import UserGraph\n",
    "import importlib\n",
    "importlib.reload(UserGraph)\n",
    "import UserGraph"
   ],
   "outputs": [],
   "execution_count": 46
  },
  {
   "metadata": {
    "ExecuteTime": {
     "end_time": "2024-11-08T21:18:49.752181Z",
     "start_time": "2024-11-08T21:18:49.737015Z"
    }
   },
   "cell_type": "code",
   "source": [
    "users = pd.read_csv('../userbase_builder/users.csv')\n",
    "ts_connection = pd.read_csv('../userbase_builder/teacher_student_connections.csv')"
   ],
   "outputs": [],
   "execution_count": 47
  },
  {
   "cell_type": "code",
   "metadata": {
    "ExecuteTime": {
     "end_time": "2024-11-08T21:18:49.950086Z",
     "start_time": "2024-11-08T21:18:49.911274Z"
    }
   },
   "source": [
    "ug = UserGraph.UserGraph()\n",
    "ug.build_from_dataframe(users, ts_connection)"
   ],
   "outputs": [],
   "execution_count": 48
  },
  {
   "metadata": {
    "ExecuteTime": {
     "end_time": "2024-11-08T21:18:50.092757Z",
     "start_time": "2024-11-08T21:18:50.087775Z"
    }
   },
   "cell_type": "code",
   "source": "users.iloc[0].to_dict()",
   "outputs": [
    {
     "data": {
      "text/plain": [
       "{'user_id': 0,\n",
       " 'is_professor': True,\n",
       " 'is_student': False,\n",
       " 'first_name': 'Simona',\n",
       " 'last_name': 'Filip',\n",
       " 'rating_avg': 4.8,\n",
       " 'email': 'filip.simona16@gmail.com',\n",
       " 'teaching_subject': 'Biology',\n",
       " 'learning_subject': nan}"
      ]
     },
     "execution_count": 49,
     "metadata": {},
     "output_type": "execute_result"
    }
   ],
   "execution_count": 49
  },
  {
   "metadata": {
    "ExecuteTime": {
     "end_time": "2024-11-08T21:18:50.379043Z",
     "start_time": "2024-11-08T21:18:50.280840Z"
    }
   },
   "cell_type": "code",
   "source": [
    "ug.add_user(1001, attributes = {'is_professor': True,\n",
    " 'is_student': False,\n",
    " 'first_name': 'Aca',\n",
    " 'last_name': 'acA',\n",
    " 'rating_avg_teacher': 4.8,\n",
    " 'email': 'filip.simona16@gmail.com',\n",
    " 'teaching_subject': 'Biology',\n",
    " 'learning_subject': 'Mathematics'}\n",
    "            )"
   ],
   "outputs": [],
   "execution_count": 50
  },
  {
   "metadata": {
    "ExecuteTime": {
     "end_time": "2024-11-08T21:19:08.041012Z",
     "start_time": "2024-11-08T21:19:08.033214Z"
    }
   },
   "cell_type": "code",
   "source": "ug.find_best_cycle(1001)",
   "outputs": [
    {
     "data": {
      "text/plain": [
       "[27, 955, 384, 990, 1001]"
      ]
     },
     "execution_count": 55,
     "metadata": {},
     "output_type": "execute_result"
    }
   ],
   "execution_count": 55
  },
  {
   "metadata": {
    "ExecuteTime": {
     "end_time": "2024-11-08T21:18:51.953206Z",
     "start_time": "2024-11-08T21:18:51.739427Z"
    }
   },
   "cell_type": "code",
   "source": "import matplotlib.pyplot as plt",
   "outputs": [],
   "execution_count": 53
  },
  {
   "metadata": {
    "ExecuteTime": {
     "end_time": "2024-11-08T21:18:52.209640Z",
     "start_time": "2024-11-08T21:18:52.169175Z"
    }
   },
   "cell_type": "code",
   "source": [
    "plt.figure(figsize=(20, 10))\n",
    "sG = G.subgraph(lst[0][0])\n",
    "#sG = []\n",
    "pos = nx.planar_layout(sG)\n",
    "nx.draw(sG, with_labels = True, pos = pos)\n",
    "edge_labels = {(u, v): f\"Subject: {d['subject']}, Rating: {d['rating_avg_teacher']}\"\n",
    "               for u, v, d in sG.edges(data=True)}\n",
    "\n",
    "nx.draw_networkx_edge_labels(sG, pos = pos, edge_labels=edge_labels,  connectionstyle = 'arc3,rad=0.1');"
   ],
   "outputs": [
    {
     "ename": "NameError",
     "evalue": "name 'G' is not defined",
     "output_type": "error",
     "traceback": [
      "\u001B[0;31m---------------------------------------------------------------------------\u001B[0m",
      "\u001B[0;31mNameError\u001B[0m                                 Traceback (most recent call last)",
      "Cell \u001B[0;32mIn[54], line 2\u001B[0m\n\u001B[1;32m      1\u001B[0m plt\u001B[38;5;241m.\u001B[39mfigure(figsize\u001B[38;5;241m=\u001B[39m(\u001B[38;5;241m20\u001B[39m, \u001B[38;5;241m10\u001B[39m))\n\u001B[0;32m----> 2\u001B[0m sG \u001B[38;5;241m=\u001B[39m \u001B[43mG\u001B[49m\u001B[38;5;241m.\u001B[39msubgraph(lst[\u001B[38;5;241m0\u001B[39m][\u001B[38;5;241m0\u001B[39m])\n\u001B[1;32m      3\u001B[0m \u001B[38;5;66;03m#sG = []\u001B[39;00m\n\u001B[1;32m      4\u001B[0m pos \u001B[38;5;241m=\u001B[39m nx\u001B[38;5;241m.\u001B[39mplanar_layout(sG)\n",
      "\u001B[0;31mNameError\u001B[0m: name 'G' is not defined"
     ]
    },
    {
     "data": {
      "text/plain": [
       "<Figure size 2000x1000 with 0 Axes>"
      ]
     },
     "metadata": {},
     "output_type": "display_data"
    }
   ],
   "execution_count": 54
  },
  {
   "metadata": {},
   "cell_type": "code",
   "outputs": [],
   "execution_count": null,
   "source": ""
  }
 ],
 "metadata": {
  "kernelspec": {
   "display_name": "base",
   "language": "python",
   "name": "python3"
  },
  "language_info": {
   "codemirror_mode": {
    "name": "ipython",
    "version": 3
   },
   "file_extension": ".py",
   "mimetype": "text/x-python",
   "name": "python",
   "nbconvert_exporter": "python",
   "pygments_lexer": "ipython3",
   "version": "3.11.5"
  }
 },
 "nbformat": 4,
 "nbformat_minor": 2
}
