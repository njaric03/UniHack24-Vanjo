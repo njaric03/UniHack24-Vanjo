{
 "cells": [
  {
   "cell_type": "code",
   "execution_count": 134,
   "metadata": {
    "ExecuteTime": {
     "end_time": "2024-11-09T13:50:32.442529Z",
     "start_time": "2024-11-09T13:50:32.437125Z"
    }
   },
   "outputs": [],
   "source": [
    "import pandas as pd\n",
    "import UserGraph\n",
    "import importlib\n",
    "importlib.reload(UserGraph)\n",
    "import UserGraph"
   ]
  },
  {
   "cell_type": "code",
   "execution_count": 135,
   "metadata": {
    "ExecuteTime": {
     "end_time": "2024-11-09T13:50:32.621574Z",
     "start_time": "2024-11-09T13:50:32.617536Z"
    }
   },
   "outputs": [],
   "source": [
    "USERS_PATH = '../userbase_builder/users.csv'\n",
    "EDGES_PATH = '../userbase_builder/teacher_student_connections.csv'\n"
   ]
  },
  {
   "cell_type": "code",
   "execution_count": 136,
   "metadata": {
    "ExecuteTime": {
     "end_time": "2024-11-09T13:50:32.796553Z",
     "start_time": "2024-11-09T13:50:32.788451Z"
    }
   },
   "outputs": [],
   "source": [
    "users = pd.read_csv(USERS_PATH)\n",
    "ts_connection = pd.read_csv(EDGES_PATH)\n",
    "\n"
   ]
  },
  {
   "cell_type": "code",
   "execution_count": 137,
   "metadata": {
    "ExecuteTime": {
     "end_time": "2024-11-09T13:50:33.015785Z",
     "start_time": "2024-11-09T13:50:32.955160Z"
    }
   },
   "outputs": [],
   "source": [
    "ug = UserGraph.UserGraph()\n",
    "ug.build_from_dataframe(users, ts_connection)"
   ]
  },
  {
   "cell_type": "code",
   "execution_count": 138,
   "metadata": {
    "ExecuteTime": {
     "end_time": "2024-11-09T13:50:33.279141Z",
     "start_time": "2024-11-09T13:50:33.134425Z"
    }
   },
   "outputs": [],
   "source": [
    "ug.add_user(1001, attributes = {'is_professor': True,\n",
    " 'is_student': True,\n",
    " 'first_name': 'Aca',\n",
    " 'last_name': 'acA',\n",
    " 'rating_avg_teacher': 4.8,\n",
    " 'email': 'filip.simona16@gmail.com',\n",
    " 'teaching_subject': 'Biology',\n",
    " 'learning_subject': 'Mathematics'}\n",
    "            )\n",
    "ug.add_user(1002, attributes = {'is_professor': True,\n",
    " 'is_student': True,\n",
    " 'first_name': 'acA',\n",
    " 'last_name': 'AcA',\n",
    " 'rating_avg_teacher': 4.8,\n",
    " 'email': 'filip.simona16@gmail.com',\n",
    " 'teaching_subject': 'Mathematics',\n",
    " 'learning_subject': 'Biology'}\n",
    "            )"
   ]
  },
  {
   "cell_type": "code",
   "execution_count": 139,
   "metadata": {},
   "outputs": [
    {
     "data": {
      "text/plain": [
       "9"
      ]
     },
     "execution_count": 139,
     "metadata": {},
     "output_type": "execute_result"
    }
   ],
   "source": [
    "len(ug.images)"
   ]
  },
  {
   "cell_type": "code",
   "execution_count": 140,
   "metadata": {
    "ExecuteTime": {
     "end_time": "2024-11-09T13:51:12.888046Z",
     "start_time": "2024-11-09T13:51:12.700830Z"
    }
   },
   "outputs": [],
   "source": [
    "slika = ug.draw_cycle(39)"
   ]
  },
  {
   "cell_type": "code",
   "execution_count": null,
   "metadata": {},
   "outputs": [],
   "source": []
  },
  {
   "cell_type": "code",
   "execution_count": 141,
   "metadata": {},
   "outputs": [
    {
     "data": {
      "text/plain": [
       "9"
      ]
     },
     "execution_count": 141,
     "metadata": {},
     "output_type": "execute_result"
    }
   ],
   "source": [
    "UserGraph.NUM_AVATARS"
   ]
  },
  {
   "cell_type": "code",
   "execution_count": 142,
   "metadata": {},
   "outputs": [
    {
     "name": "stdout",
     "output_type": "stream",
     "text": [
      "0 None\n",
      "1 None\n",
      "2 None\n",
      "3 None\n",
      "4 None\n",
      "5 None\n",
      "6 None\n",
      "7 None\n",
      "8 None\n",
      "9 [9, 793, 550]\n",
      "10 None\n",
      "11 None\n",
      "12 None\n",
      "13 None\n",
      "14 None\n",
      "15 None\n",
      "16 None\n",
      "17 None\n",
      "18 None\n",
      "19 None\n",
      "20 None\n",
      "21 [21, 118, 873, 238]\n",
      "22 None\n",
      "23 None\n",
      "24 None\n",
      "25 None\n",
      "26 None\n",
      "27 None\n",
      "28 None\n",
      "29 [29, 136, 873]\n",
      "30 None\n",
      "31 [31, 238, 674, 55]\n",
      "32 [32, 381]\n",
      "33 None\n",
      "34 None\n",
      "35 None\n",
      "36 None\n",
      "37 [37, 674, 873]\n",
      "38 [38, 55, 812]\n",
      "39 [39, 873, 238, 602, 342]\n",
      "40 None\n",
      "41 None\n",
      "42 None\n",
      "43 None\n",
      "44 None\n",
      "45 None\n",
      "46 None\n",
      "47 None\n",
      "48 None\n",
      "49 None\n",
      "50 None\n",
      "51 [51, 653, 792]\n",
      "52 None\n",
      "53 None\n",
      "54 None\n",
      "55 [55, 943, 118]\n",
      "56 None\n",
      "57 None\n",
      "58 None\n",
      "59 None\n",
      "60 [51, 60, 792]\n",
      "61 [61, 812, 453]\n",
      "62 None\n",
      "63 None\n",
      "64 None\n",
      "65 None\n",
      "66 None\n",
      "67 None\n",
      "68 None\n",
      "69 None\n",
      "70 None\n",
      "71 None\n",
      "72 None\n",
      "73 None\n",
      "74 [51, 74, 792]\n",
      "75 None\n",
      "76 None\n",
      "77 [517, 312, 77]\n",
      "78 None\n",
      "79 None\n",
      "80 None\n",
      "81 None\n",
      "82 [82, 633, 661]\n",
      "83 None\n",
      "84 [84, 271, 792]\n",
      "85 None\n",
      "86 None\n",
      "87 None\n",
      "88 None\n",
      "89 None\n",
      "90 None\n",
      "91 None\n",
      "92 None\n",
      "93 None\n",
      "94 None\n",
      "95 [95, 651]\n",
      "96 None\n",
      "97 None\n",
      "98 None\n",
      "99 None\n"
     ]
    }
   ],
   "source": [
    "for i in range(100):\n",
    "    print(i, ug.find_best_cycle(i))"
   ]
  },
  {
   "cell_type": "code",
   "execution_count": null,
   "metadata": {},
   "outputs": [],
   "source": []
  }
 ],
 "metadata": {
  "kernelspec": {
   "display_name": "base",
   "language": "python",
   "name": "python3"
  },
  "language_info": {
   "codemirror_mode": {
    "name": "ipython",
    "version": 3
   },
   "file_extension": ".py",
   "mimetype": "text/x-python",
   "name": "python",
   "nbconvert_exporter": "python",
   "pygments_lexer": "ipython3",
   "version": "3.11.5"
  }
 },
 "nbformat": 4,
 "nbformat_minor": 2
}
