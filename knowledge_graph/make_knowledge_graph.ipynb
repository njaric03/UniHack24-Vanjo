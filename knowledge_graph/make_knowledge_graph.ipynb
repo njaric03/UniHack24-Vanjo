{
 "cells": [
  {
   "cell_type": "code",
   "metadata": {
    "ExecuteTime": {
     "end_time": "2024-11-08T14:39:25.948199Z",
     "start_time": "2024-11-08T14:39:25.735391Z"
    }
   },
   "source": [
    "import networkx as nx\n",
    "import pandas as pd"
   ],
   "outputs": [],
   "execution_count": 1
  },
  {
   "metadata": {
    "ExecuteTime": {
     "end_time": "2024-11-08T14:43:19.358750Z",
     "start_time": "2024-11-08T14:43:19.351433Z"
    }
   },
   "cell_type": "code",
   "source": "users = pd.read_csv('../userbase_builder/users.csv')",
   "outputs": [],
   "execution_count": 16
  },
  {
   "cell_type": "code",
   "metadata": {
    "ExecuteTime": {
     "end_time": "2024-11-08T14:43:20.100654Z",
     "start_time": "2024-11-08T14:43:20.067917Z"
    }
   },
   "source": [
    "ts_connection = pd.read_csv('../userbase_builder/teacher_student_connections.csv')\n",
    "\n",
    "source_col = 'user_id_teacher'\n",
    "target_col = 'user_id_student'\n",
    "edge_col = 'teaching'\n",
    "\n",
    "G = nx.from_pandas_edgelist(ts_connection, source=source_col, target=target_col, edge_attr=edge_col, create_using=nx.DiGraph)"
   ],
   "outputs": [],
   "execution_count": 17
  },
  {
   "cell_type": "code",
   "metadata": {
    "ExecuteTime": {
     "end_time": "2024-11-08T14:39:31.364880Z",
     "start_time": "2024-11-08T14:39:31.330290Z"
    }
   },
   "source": [
    "nx.from_pandas_edgelist?"
   ],
   "outputs": [],
   "execution_count": 4
  },
  {
   "cell_type": "code",
   "metadata": {
    "ExecuteTime": {
     "end_time": "2024-11-08T14:40:11.025959Z",
     "start_time": "2024-11-08T14:40:01.698375Z"
    }
   },
   "source": [
    "nx.draw_spectral(G, with_labels=True)"
   ],
   "outputs": [
    {
     "data": {
      "text/plain": [
       "<Figure size 640x480 with 1 Axes>"
      ],
      "image/png": "[encoded data removed]"
     },
     "metadata": {},
     "output_type": "display_data"
    }
   ],
   "execution_count": 6
  },
  {
   "metadata": {
    "ExecuteTime": {
     "end_time": "2024-11-08T14:40:18.988275Z",
     "start_time": "2024-11-08T14:40:18.982838Z"
    }
   },
   "cell_type": "code",
   "outputs": [
    {
     "data": {
      "text/plain": [
       "9161"
      ]
     },
     "execution_count": 7,
     "metadata": {},
     "output_type": "execute_result"
    }
   ],
   "execution_count": 7,
   "source": "G.number_of_edges()"
  },
  {
   "metadata": {
    "ExecuteTime": {
     "end_time": "2024-11-08T14:40:30.865192Z",
     "start_time": "2024-11-08T14:40:30.860412Z"
    }
   },
   "cell_type": "code",
   "outputs": [
    {
     "data": {
      "text/plain": [
       "759"
      ]
     },
     "execution_count": 9,
     "metadata": {},
     "output_type": "execute_result"
    }
   ],
   "execution_count": 9,
   "source": "G.number_of_nodes()"
  },
  {
   "metadata": {},
   "cell_type": "code",
   "outputs": [
    {
     "name": "stdout",
     "output_type": "stream",
     "text": [
      "(0, 40, {'teaching': 'history'})\n",
      "(0, 96, {'teaching': 'history'})\n",
      "(0, 118, {'teaching': 'history'})\n",
      "(0, 144, {'teaching': 'history'})\n",
      "(40, 18, {'teaching': 'Romanian language'})\n",
      "(40, 123, {'teaching': 'Romanian language'})\n",
      "(118, 34, {'teaching': 'biology'})\n",
      "(118, 54, {'teaching': 'biology'})\n",
      "(118, 77, {'teaching': 'biology'})\n",
      "(118, 138, {'teaching': 'biology'})\n",
      "(25, 40, {'teaching': 'history'})\n",
      "(25, 96, {'teaching': 'history'})\n",
      "(25, 118, {'teaching': 'history'})\n",
      "(25, 144, {'teaching': 'history'})\n",
      "(68, 40, {'teaching': 'history'})\n",
      "(68, 96, {'teaching': 'history'})\n",
      "(68, 118, {'teaching': 'history'})\n",
      "(68, 144, {'teaching': 'history'})\n",
      "(138, 40, {'teaching': 'history'})\n",
      "(138, 96, {'teaching': 'history'})\n",
      "(138, 118, {'teaching': 'history'})\n",
      "(138, 144, {'teaching': 'history'})\n",
      "(140, 40, {'teaching': 'history'})\n",
      "(140, 96, {'teaching': 'history'})\n",
      "(140, 118, {'teaching': 'history'})\n",
      "(140, 144, {'teaching': 'history'})\n",
      "(143, 40, {'teaching': 'history'})\n",
      "(143, 96, {'teaching': 'history'})\n",
      "(143, 118, {'teaching': 'history'})\n",
      "(143, 144, {'teaching': 'history'})\n",
      "(1, 0, {'teaching': 'French language'})\n",
      "(24, 0, {'teaching': 'French language'})\n",
      "(75, 0, {'teaching': 'French language'})\n",
      "(120, 0, {'teaching': 'French language'})\n",
      "(123, 0, {'teaching': 'French language'})\n",
      "(3, 72, {'teaching': 'mathematics'})\n",
      "(3, 85, {'teaching': 'mathematics'})\n",
      "(3, 121, {'teaching': 'mathematics'})\n",
      "(19, 72, {'teaching': 'mathematics'})\n",
      "(19, 85, {'teaching': 'mathematics'})\n",
      "(19, 121, {'teaching': 'mathematics'})\n",
      "(49, 72, {'teaching': 'mathematics'})\n",
      "(49, 85, {'teaching': 'mathematics'})\n",
      "(49, 121, {'teaching': 'mathematics'})\n",
      "(53, 72, {'teaching': 'mathematics'})\n",
      "(53, 85, {'teaching': 'mathematics'})\n",
      "(53, 121, {'teaching': 'mathematics'})\n",
      "(54, 72, {'teaching': 'mathematics'})\n",
      "(54, 85, {'teaching': 'mathematics'})\n",
      "(54, 121, {'teaching': 'mathematics'})\n",
      "(56, 72, {'teaching': 'mathematics'})\n",
      "(56, 85, {'teaching': 'mathematics'})\n",
      "(56, 121, {'teaching': 'mathematics'})\n",
      "(60, 72, {'teaching': 'mathematics'})\n",
      "(60, 85, {'teaching': 'mathematics'})\n",
      "(60, 121, {'teaching': 'mathematics'})\n",
      "(66, 72, {'teaching': 'mathematics'})\n",
      "(66, 85, {'teaching': 'mathematics'})\n",
      "(66, 121, {'teaching': 'mathematics'})\n",
      "(69, 72, {'teaching': 'mathematics'})\n",
      "(69, 85, {'teaching': 'mathematics'})\n",
      "(69, 121, {'teaching': 'mathematics'})\n",
      "(76, 72, {'teaching': 'mathematics'})\n",
      "(76, 85, {'teaching': 'mathematics'})\n",
      "(76, 121, {'teaching': 'mathematics'})\n",
      "(88, 72, {'teaching': 'mathematics'})\n",
      "(88, 85, {'teaching': 'mathematics'})\n",
      "(88, 121, {'teaching': 'mathematics'})\n",
      "(97, 72, {'teaching': 'mathematics'})\n",
      "(97, 85, {'teaching': 'mathematics'})\n",
      "(97, 121, {'teaching': 'mathematics'})\n",
      "(103, 72, {'teaching': 'mathematics'})\n",
      "(103, 85, {'teaching': 'mathematics'})\n",
      "(103, 121, {'teaching': 'mathematics'})\n",
      "(119, 72, {'teaching': 'mathematics'})\n",
      "(119, 85, {'teaching': 'mathematics'})\n",
      "(119, 121, {'teaching': 'mathematics'})\n",
      "(126, 72, {'teaching': 'mathematics'})\n",
      "(126, 85, {'teaching': 'mathematics'})\n",
      "(126, 121, {'teaching': 'mathematics'})\n",
      "(128, 72, {'teaching': 'mathematics'})\n",
      "(128, 85, {'teaching': 'mathematics'})\n",
      "(128, 121, {'teaching': 'mathematics'})\n",
      "(130, 72, {'teaching': 'mathematics'})\n",
      "(130, 85, {'teaching': 'mathematics'})\n",
      "(130, 121, {'teaching': 'mathematics'})\n",
      "(135, 72, {'teaching': 'mathematics'})\n",
      "(135, 85, {'teaching': 'mathematics'})\n",
      "(135, 121, {'teaching': 'mathematics'})\n",
      "(147, 72, {'teaching': 'mathematics'})\n",
      "(147, 85, {'teaching': 'mathematics'})\n",
      "(147, 121, {'teaching': 'mathematics'})\n",
      "(148, 72, {'teaching': 'mathematics'})\n",
      "(148, 85, {'teaching': 'mathematics'})\n",
      "(148, 121, {'teaching': 'mathematics'})\n",
      "(4, 34, {'teaching': 'biology'})\n",
      "(4, 54, {'teaching': 'biology'})\n",
      "(4, 77, {'teaching': 'biology'})\n",
      "(4, 138, {'teaching': 'biology'})\n",
      "(77, 2, {'teaching': 'computer science'})\n",
      "(77, 80, {'teaching': 'computer science'})\n",
      "(61, 34, {'teaching': 'biology'})\n",
      "(61, 54, {'teaching': 'biology'})\n",
      "(61, 77, {'teaching': 'biology'})\n",
      "(61, 138, {'teaching': 'biology'})\n",
      "(83, 34, {'teaching': 'biology'})\n",
      "(83, 54, {'teaching': 'biology'})\n",
      "(83, 77, {'teaching': 'biology'})\n",
      "(83, 138, {'teaching': 'biology'})\n",
      "(106, 34, {'teaching': 'biology'})\n",
      "(106, 54, {'teaching': 'biology'})\n",
      "(106, 77, {'teaching': 'biology'})\n",
      "(106, 138, {'teaching': 'biology'})\n",
      "(113, 34, {'teaching': 'biology'})\n",
      "(113, 54, {'teaching': 'biology'})\n",
      "(113, 77, {'teaching': 'biology'})\n",
      "(113, 138, {'teaching': 'biology'})\n",
      "(122, 34, {'teaching': 'biology'})\n",
      "(122, 54, {'teaching': 'biology'})\n",
      "(122, 77, {'teaching': 'biology'})\n",
      "(122, 138, {'teaching': 'biology'})\n",
      "(5, 19, {'teaching': 'English language'})\n",
      "(5, 43, {'teaching': 'English language'})\n",
      "(43, 10, {'teaching': 'physical education'})\n",
      "(43, 48, {'teaching': 'physical education'})\n",
      "(7, 19, {'teaching': 'English language'})\n",
      "(7, 43, {'teaching': 'English language'})\n",
      "(12, 19, {'teaching': 'English language'})\n",
      "(12, 43, {'teaching': 'English language'})\n",
      "(13, 19, {'teaching': 'English language'})\n",
      "(13, 43, {'teaching': 'English language'})\n",
      "(17, 19, {'teaching': 'English language'})\n",
      "(17, 43, {'teaching': 'English language'})\n",
      "(18, 19, {'teaching': 'English language'})\n",
      "(18, 43, {'teaching': 'English language'})\n",
      "(36, 19, {'teaching': 'English language'})\n",
      "(36, 43, {'teaching': 'English language'})\n",
      "(47, 19, {'teaching': 'English language'})\n",
      "(47, 43, {'teaching': 'English language'})\n",
      "(52, 19, {'teaching': 'English language'})\n",
      "(52, 43, {'teaching': 'English language'})\n",
      "(57, 19, {'teaching': 'English language'})\n",
      "(57, 43, {'teaching': 'English language'})\n",
      "(71, 19, {'teaching': 'English language'})\n",
      "(71, 43, {'teaching': 'English language'})\n",
      "(73, 19, {'teaching': 'English language'})\n",
      "(73, 43, {'teaching': 'English language'})\n",
      "(74, 19, {'teaching': 'English language'})\n",
      "(74, 43, {'teaching': 'English language'})\n",
      "(82, 19, {'teaching': 'English language'})\n",
      "(82, 43, {'teaching': 'English language'})\n",
      "(84, 19, {'teaching': 'English language'})\n",
      "(84, 43, {'teaching': 'English language'})\n",
      "(91, 19, {'teaching': 'English language'})\n",
      "(91, 43, {'teaching': 'English language'})\n",
      "(114, 19, {'teaching': 'English language'})\n",
      "(114, 43, {'teaching': 'English language'})\n",
      "(132, 19, {'teaching': 'English language'})\n",
      "(132, 43, {'teaching': 'English language'})\n",
      "(141, 19, {'teaching': 'English language'})\n",
      "(141, 43, {'teaching': 'English language'})\n",
      "(8, 18, {'teaching': 'Romanian language'})\n",
      "(8, 123, {'teaching': 'Romanian language'})\n",
      "(21, 18, {'teaching': 'Romanian language'})\n",
      "(21, 123, {'teaching': 'Romanian language'})\n",
      "(30, 18, {'teaching': 'Romanian language'})\n",
      "(30, 123, {'teaching': 'Romanian language'})\n",
      "(37, 18, {'teaching': 'Romanian language'})\n",
      "(37, 123, {'teaching': 'Romanian language'})\n",
      "(42, 18, {'teaching': 'Romanian language'})\n",
      "(42, 123, {'teaching': 'Romanian language'})\n",
      "(50, 18, {'teaching': 'Romanian language'})\n",
      "(50, 123, {'teaching': 'Romanian language'})\n",
      "(51, 18, {'teaching': 'Romanian language'})\n",
      "(51, 123, {'teaching': 'Romanian language'})\n",
      "(65, 18, {'teaching': 'Romanian language'})\n",
      "(65, 123, {'teaching': 'Romanian language'})\n",
      "(95, 18, {'teaching': 'Romanian language'})\n",
      "(95, 123, {'teaching': 'Romanian language'})\n",
      "(112, 18, {'teaching': 'Romanian language'})\n",
      "(112, 123, {'teaching': 'Romanian language'})\n",
      "(115, 18, {'teaching': 'Romanian language'})\n",
      "(115, 123, {'teaching': 'Romanian language'})\n",
      "(11, 135, {'teaching': 'information technology'})\n",
      "(15, 13, {'teaching': 'physics'})\n",
      "(16, 13, {'teaching': 'physics'})\n",
      "(94, 13, {'teaching': 'physics'})\n",
      "(125, 13, {'teaching': 'physics'})\n",
      "(129, 13, {'teaching': 'physics'})\n",
      "(20, 45, {'teaching': 'German language'})\n",
      "(20, 91, {'teaching': 'German language'})\n",
      "(20, 124, {'teaching': 'German language'})\n",
      "(31, 45, {'teaching': 'German language'})\n",
      "(31, 91, {'teaching': 'German language'})\n",
      "(31, 124, {'teaching': 'German language'})\n",
      "(87, 45, {'teaching': 'German language'})\n",
      "(87, 91, {'teaching': 'German language'})\n",
      "(87, 124, {'teaching': 'German language'})\n",
      "(116, 45, {'teaching': 'German language'})\n",
      "(116, 91, {'teaching': 'German language'})\n",
      "(116, 124, {'teaching': 'German language'})\n",
      "(137, 45, {'teaching': 'German language'})\n",
      "(137, 91, {'teaching': 'German language'})\n",
      "(137, 124, {'teaching': 'German language'})\n",
      "(28, 11, {'teaching': 'chemistry'})\n",
      "(28, 49, {'teaching': 'chemistry'})\n",
      "(28, 64, {'teaching': 'chemistry'})\n",
      "(64, 70, {'teaching': 'Spanish language'})\n",
      "(64, 73, {'teaching': 'Spanish language'})\n",
      "(48, 11, {'teaching': 'chemistry'})\n",
      "(48, 49, {'teaching': 'chemistry'})\n",
      "(48, 64, {'teaching': 'chemistry'})\n",
      "(133, 11, {'teaching': 'chemistry'})\n",
      "(133, 49, {'teaching': 'chemistry'})\n",
      "(133, 64, {'teaching': 'chemistry'})\n",
      "(32, 107, {'teaching': 'geography'})\n",
      "(93, 107, {'teaching': 'geography'})\n",
      "(127, 107, {'teaching': 'geography'})\n",
      "(39, 2, {'teaching': 'computer science'})\n",
      "(39, 80, {'teaching': 'computer science'})\n",
      "(81, 2, {'teaching': 'computer science'})\n",
      "(81, 80, {'teaching': 'computer science'})\n",
      "(89, 2, {'teaching': 'computer science'})\n",
      "(89, 80, {'teaching': 'computer science'})\n",
      "(44, 79, {'teaching': 'political science'})\n",
      "(44, 102, {'teaching': 'political science'})\n",
      "(131, 79, {'teaching': 'political science'})\n",
      "(131, 102, {'teaching': 'political science'})\n",
      "(55, 81, {'teaching': 'accounting'})\n",
      "(55, 98, {'teaching': 'accounting'})\n",
      "(55, 117, {'teaching': 'accounting'})\n",
      "(78, 57, {'teaching': 'sociology'})\n",
      "(78, 99, {'teaching': 'sociology'})\n",
      "(108, 3, {'teaching': 'psychology'})\n",
      "(108, 52, {'teaching': 'psychology'})\n",
      "(108, 90, {'teaching': 'psychology'})\n",
      "(108, 101, {'teaching': 'psychology'})\n",
      "(139, 56, {'teaching': 'philosophy'})\n"
     ]
    }
   ],
   "execution_count": 8,
   "source": [
    "for edge in G.edges(data=True):\n",
    "    print(edge)"
   ]
  },
  {
   "metadata": {
    "ExecuteTime": {
     "end_time": "2024-11-08T14:40:37.292170Z",
     "start_time": "2024-11-08T14:40:37.279130Z"
    }
   },
   "cell_type": "code",
   "outputs": [
    {
     "name": "stdout",
     "output_type": "stream",
     "text": [
      "No cycles\n",
      "No cycles\n",
      "No cycles\n",
      "[(72, 53), (53, 72)]\n",
      "[(72, 53), (53, 72)]\n",
      "No cycles\n",
      "No cycles\n",
      "[(53, 72), (72, 53)]\n",
      "No cycles\n",
      "[(72, 53), (53, 72)]\n",
      "No cycles\n",
      "[(72, 53), (53, 72)]\n",
      "No cycles\n",
      "[(53, 72), (72, 53)]\n",
      "[(72, 53), (53, 72)]\n",
      "[(72, 53), (53, 72)]\n",
      "[(72, 53), (53, 72)]\n",
      "No cycles\n",
      "[(72, 53), (53, 72)]\n",
      "[(72, 53), (53, 72)]\n",
      "[(72, 53), (53, 72)]\n",
      "[(72, 53), (53, 72)]\n",
      "[(72, 53), (53, 72)]\n",
      "[(72, 53), (53, 72)]\n",
      "[(72, 53), (53, 72)]\n",
      "[(72, 53), (53, 72)]\n",
      "[(72, 53), (53, 72)]\n",
      "[(72, 53), (53, 72)]\n",
      "No cycles\n",
      "[(72, 53), (53, 72)]\n",
      "[(72, 53), (53, 72)]\n",
      "No cycles\n",
      "[(53, 72), (72, 53)]\n",
      "No cycles\n",
      "No cycles\n",
      "[(72, 53), (53, 72)]\n",
      "No cycles\n",
      "[(72, 53), (53, 72)]\n",
      "[(72, 53), (53, 72)]\n",
      "[(72, 53), (53, 72)]\n",
      "[(53, 72), (72, 53)]\n",
      "No cycles\n",
      "[(72, 53), (53, 72)]\n",
      "[(72, 53), (53, 72)]\n",
      "[(72, 53), (53, 72)]\n",
      "[(72, 53), (53, 72)]\n",
      "[(53, 72), (72, 53)]\n",
      "[(72, 53), (53, 72)]\n",
      "[(72, 53), (53, 72)]\n",
      "No cycles\n",
      "No cycles\n",
      "No cycles\n",
      "[(72, 53), (53, 72)]\n",
      "[(53, 72), (72, 53)]\n",
      "[(72, 53), (53, 72)]\n",
      "[(53, 72), (72, 53)]\n",
      "[(72, 53), (53, 72)]\n",
      "[(72, 53), (53, 72)]\n",
      "No cycles\n",
      "No cycles\n",
      "[(72, 53), (53, 72)]\n",
      "No cycles\n",
      "[(72, 53), (53, 72)]\n",
      "[(72, 53), (53, 72)]\n",
      "[(72, 53), (53, 72)]\n",
      "[(53, 72), (72, 53)]\n",
      "No cycles\n",
      "[(53, 72), (72, 53)]\n",
      "[(72, 53), (53, 72)]\n",
      "[(72, 53), (53, 72)]\n",
      "[(72, 53), (53, 72)]\n",
      "No cycles\n",
      "[(72, 53), (53, 72)]\n",
      "[(72, 53), (53, 72)]\n",
      "No cycles\n",
      "[(72, 53), (53, 72)]\n",
      "No cycles\n",
      "[(72, 53), (53, 72)]\n",
      "No cycles\n",
      "[(72, 53), (53, 72)]\n",
      "[(72, 53), (53, 72)]\n",
      "[(72, 53), (53, 72)]\n",
      "[(53, 72), (72, 53)]\n",
      "No cycles\n",
      "[(53, 72), (72, 53)]\n",
      "No cycles\n",
      "[(53, 72), (72, 53)]\n",
      "[(72, 53), (53, 72)]\n",
      "[(72, 53), (53, 72)]\n",
      "[(72, 53), (53, 72)]\n",
      "[(72, 53), (53, 72)]\n",
      "[(53, 72), (72, 53)]\n",
      "No cycles\n",
      "[(53, 72), (72, 53)]\n",
      "[(53, 72), (72, 53)]\n",
      "No cycles\n",
      "No cycles\n",
      "[(72, 53), (53, 72)]\n",
      "No cycles\n",
      "[(53, 72), (72, 53)]\n",
      "[(72, 53), (53, 72)]\n",
      "No cycles\n",
      "No cycles\n",
      "No cycles\n",
      "No cycles\n",
      "[(53, 72), (72, 53)]\n",
      "[(72, 53), (53, 72)]\n",
      "No cycles\n",
      "[(53, 72), (72, 53)]\n",
      "No cycles\n",
      "[(72, 53), (53, 72)]\n",
      "No cycles\n",
      "[(53, 72), (72, 53)]\n",
      "[(72, 53), (53, 72)]\n",
      "No cycles\n",
      "[(72, 53), (53, 72)]\n",
      "[(72, 53), (53, 72)]\n",
      "[(72, 53), (53, 72)]\n",
      "[(72, 53), (53, 72)]\n",
      "No cycles\n",
      "[(72, 53), (53, 72)]\n",
      "[(72, 53), (53, 72)]\n",
      "No cycles\n",
      "[(72, 53), (53, 72)]\n",
      "[(53, 72), (72, 53)]\n",
      "[(72, 53), (53, 72)]\n",
      "No cycles\n",
      "No cycles\n",
      "[(72, 53), (53, 72)]\n",
      "[(72, 53), (53, 72)]\n",
      "[(72, 53), (53, 72)]\n",
      "[(53, 72), (72, 53)]\n",
      "[(72, 53), (53, 72)]\n",
      "No cycles\n",
      "No cycles\n",
      "[(72, 53), (53, 72)]\n",
      "No cycles\n",
      "[(72, 53), (53, 72)]\n",
      "No cycles\n",
      "No cycles\n",
      "[(53, 72), (72, 53)]\n",
      "[(53, 72), (72, 53)]\n",
      "[(72, 53), (53, 72)]\n",
      "No cycles\n",
      "[(72, 53), (53, 72)]\n",
      "[(53, 72), (72, 53)]\n",
      "[(72, 53), (53, 72)]\n",
      "[(53, 72), (72, 53)]\n",
      "[(72, 53), (53, 72)]\n",
      "No cycles\n"
     ]
    }
   ],
   "execution_count": 10,
   "source": [
    "for n in range(0, 150):\n",
    "    try: \n",
    "        print(nx.find_cycle(G, source=n))\n",
    "    except:\n",
    "        print('No cycles')"
   ]
  },
  {
   "metadata": {},
   "cell_type": "code",
   "outputs": [
    {
     "name": "stdout",
     "output_type": "stream",
     "text": [
      "[(43, 48), (48, 64), (64, 73), (73, 43)]\n"
     ]
    }
   ],
   "execution_count": 10,
   "source": "print(nx.find_cycle(G, source=30))"
  },
  {
   "metadata": {},
   "cell_type": "code",
   "outputs": [],
   "execution_count": 11,
   "source": [
    "try: \n",
    "    nx.find_cycle(G, source=30)\n",
    "except:\n",
    "    print('No cycles')"
   ]
  },
  {
   "metadata": {
    "ExecuteTime": {
     "end_time": "2024-11-08T14:45:06.859850Z",
     "start_time": "2024-11-08T14:45:06.689887Z"
    }
   },
   "cell_type": "code",
   "source": [
    "for i, x in enumerate(list(nx.simple_cycles(G, length_bound=3))[:100]):\n",
    "    print(i, x, sum([users[users['user_id'] == y]['rating_avg'].values[0] for y in x]))"
   ],
   "outputs": [
    {
     "name": "stdout",
     "output_type": "stream",
     "text": [
      "0 [3, 968, 431] 5.6\n",
      "1 [3, 990, 431] 6.8999999999999995\n",
      "2 [521, 421, 137] 6.4\n",
      "3 [16, 421, 701] 9.3\n",
      "4 [16, 804, 172] 11.0\n",
      "5 [16, 804, 696] 12.5\n",
      "6 [27, 81, 568] 8.3\n",
      "7 [27, 421] 6.0\n",
      "8 [53, 72] 3.6\n",
      "9 [53, 112] 3.8\n",
      "10 [53, 113, 305] 5.8\n",
      "11 [53, 170, 338] 7.6000000000000005\n",
      "12 [53, 170, 608] 6.800000000000001\n",
      "13 [53, 170, 960] 7.9\n",
      "14 [53, 191] 5.800000000000001\n",
      "15 [53, 262, 305] 4.2\n",
      "16 [53, 656, 91] 8.5\n",
      "17 [53, 656, 290] 6.500000000000001\n",
      "18 [568, 317, 170] 8.7\n",
      "19 [568, 495, 450] 7.8\n",
      "20 [568, 819, 81] 7.3\n",
      "21 [57, 91, 237] 8.8\n",
      "22 [57, 91, 466] 10.2\n",
      "23 [57, 290, 237] 6.800000000000001\n",
      "24 [57, 290, 466] 8.2\n",
      "25 [582, 656, 705] 6.800000000000001\n",
      "26 [586, 705, 765] 7.2\n",
      "27 [586, 804, 879] 8.9\n",
      "28 [75, 297, 656] 8.0\n",
      "29 [75, 660, 205] 5.5\n",
      "30 [75, 667, 209] 8.9\n",
      "31 [75, 667, 215] 7.0\n",
      "32 [75, 667, 284] 9.600000000000001\n",
      "33 [75, 667, 872] 9.100000000000001\n",
      "34 [589, 660] 3.4\n",
      "35 [79, 81, 654] 8.0\n",
      "36 [79, 376, 118] 7.6\n",
      "37 [79, 396] 5.1\n",
      "38 [79, 804, 676] 11.8\n",
      "39 [81, 209] 6.0\n",
      "40 [81, 215] 4.1\n",
      "41 [81, 284] 6.7\n",
      "42 [81, 654, 135] 6.0\n",
      "43 [81, 654, 639] 8.5\n",
      "44 [81, 704, 656] 6.5\n",
      "45 [81, 872] 6.2\n",
      "46 [81, 923, 656] 7.4\n",
      "47 [88, 297, 656] 8.899999999999999\n",
      "48 [88, 660, 205] 6.3999999999999995\n",
      "49 [88, 667, 209] 9.8\n",
      "50 [88, 667, 215] 7.9\n",
      "51 [88, 667, 284] 10.5\n",
      "52 [88, 667, 872] 10.0\n",
      "53 [91, 237, 120] 9.700000000000001\n",
      "54 [91, 237, 208] 7.1000000000000005\n",
      "55 [91, 237, 719] 8.4\n",
      "56 [91, 431, 302] 7.3\n",
      "57 [91, 431, 812] 9.7\n",
      "58 [91, 466, 120] 11.1\n",
      "59 [91, 466, 208] 8.5\n",
      "60 [91, 466, 719] 9.8\n",
      "61 [97, 297, 656] 6.300000000000001\n",
      "62 [97, 660, 205] 3.8\n",
      "63 [97, 667, 209] 7.2\n",
      "64 [97, 667, 215] 5.300000000000001\n",
      "65 [97, 667, 284] 7.9\n",
      "66 [97, 667, 872] 7.4\n",
      "67 [612, 297, 170] 6.3\n",
      "68 [612, 660, 973] 3.2\n",
      "69 [612, 667] 4.1\n",
      "70 [110, 118] 3.3\n",
      "71 [110, 170, 654] 4.8\n",
      "72 [110, 656, 396] 4.8\n",
      "73 [113, 297] 5.2\n",
      "74 [113, 667, 704] 6.6000000000000005\n",
      "75 [113, 667, 923] 7.500000000000001\n",
      "76 [118, 135, 376] 5.6\n",
      "77 [118, 187, 704] 6.2\n",
      "78 [118, 187, 923] 7.1000000000000005\n",
      "79 [118, 639, 376] 8.1\n",
      "80 [118, 795] 5.4\n",
      "81 [120, 290, 237] 7.699999999999999\n",
      "82 [120, 290, 466] 9.1\n",
      "83 [639, 396] 5.6\n",
      "84 [639, 804, 676] 12.3\n",
      "85 [645, 305, 237] 4.0\n",
      "86 [645, 305, 466] 5.4\n",
      "87 [647, 305, 431] 5.5\n",
      "88 [135, 396] 3.0999999999999996\n",
      "89 [135, 804, 676] 9.8\n",
      "90 [137, 331, 421] 6.8\n",
      "91 [137, 378, 421] 5.0\n",
      "92 [137, 877, 421] 5.699999999999999\n",
      "93 [654, 187] 4.1\n",
      "94 [654, 795, 170] 6.8999999999999995\n",
      "95 [656, 283, 297] 9.0\n",
      "96 [656, 376] 4.0\n",
      "97 [656, 396, 795] 6.9\n",
      "98 [656, 397, 297] 7.0\n",
      "99 [656, 421, 317] 9.3\n"
     ]
    }
   ],
   "execution_count": 22
  },
  {
   "cell_type": "code",
   "metadata": {
    "ExecuteTime": {
     "end_time": "2024-11-08T14:44:31.385341Z",
     "start_time": "2024-11-08T14:44:31.380473Z"
    }
   },
   "source": "users[users['user_id'] == 656]['rating_avg'].values[0]",
   "outputs": [
    {
     "data": {
      "text/plain": [
       "np.float64(2.7)"
      ]
     },
     "execution_count": 20,
     "metadata": {},
     "output_type": "execute_result"
    }
   ],
   "execution_count": 20
  },
  {
   "metadata": {},
   "cell_type": "code",
   "outputs": [],
   "execution_count": null,
   "source": ""
  }
 ],
 "metadata": {
  "kernelspec": {
   "display_name": "base",
   "language": "python",
   "name": "python3"
  },
  "language_info": {
   "codemirror_mode": {
    "name": "ipython",
    "version": 3
   },
   "file_extension": ".py",
   "mimetype": "text/x-python",
   "name": "python",
   "nbconvert_exporter": "python",
   "pygments_lexer": "ipython3",
   "version": "3.11.5"
  }
 },
 "nbformat": 4,
 "nbformat_minor": 2
}
