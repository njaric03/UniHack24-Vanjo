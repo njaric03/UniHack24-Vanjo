{
 "cells": [
  {
   "cell_type": "code",
   "execution_count": 1,
   "metadata": {},
   "outputs": [],
   "source": [
    "from random import choice"
   ]
  },
  {
   "cell_type": "code",
   "execution_count": 2,
   "metadata": {},
   "outputs": [],
   "source": [
    "reviews = {\n",
    "    1: [\n",
    "        \"Terrible experience, I wouldn't recommend this at all.\",\n",
    "        \"Very disappointing, the quality was way below expectations.\",\n",
    "        \"Poor service and product. I wish I could get a refund.\",\n",
    "        \"This was a complete waste of time and money.\",\n",
    "        \"One of the worst experiences I've ever had. Do not buy this!\"\n",
    "    ],\n",
    "    2: [\n",
    "        \"Not great, but I suppose it could be worse.\",\n",
    "        \"Some aspects were okay, but overall not impressed.\",\n",
    "        \"The product/service has major flaws that need to be addressed.\",\n",
    "        \"Barely acceptable quality, not worth the price.\",\n",
    "        \"Could use significant improvement in many areas.\"\n",
    "    ],\n",
    "    3: [\n",
    "        \"It was decent, but nothing special.\",\n",
    "        \"Average quality, met my basic expectations.\",\n",
    "        \"Some parts were good, while others were just okay.\",\n",
    "        \"An okay experience, but there is room for improvement.\",\n",
    "        \"Satisfied, but wouldn’t go out of my way to recommend it.\"\n",
    "    ],\n",
    "    4: [\n",
    "        \"Quite good overall, I’m happy with the outcome.\",\n",
    "        \"Impressive, just a few minor issues here and there.\",\n",
    "        \"A positive experience, and I would recommend it.\",\n",
    "        \"Good quality and service, met my expectations well.\",\n",
    "        \"Almost perfect, just a little shy of being excellent.\"\n",
    "    ],\n",
    "    5: [\n",
    "        \"Absolutely amazing, exceeded all my expectations!\",\n",
    "        \"Flawless experience from start to finish.\",\n",
    "        \"Excellent service/product, I highly recommend it!\",\n",
    "        \"One of the best I’ve tried, couldn’t be happier.\",\n",
    "        \"Superb quality, worth every penny. Will definitely return!\"\n",
    "    ]\n",
    "}"
   ]
  },
  {
   "cell_type": "code",
   "execution_count": 3,
   "metadata": {},
   "outputs": [
    {
     "data": {
      "text/plain": [
       "\"Terrible experience, I wouldn't recommend this at all.\""
      ]
     },
     "execution_count": 3,
     "metadata": {},
     "output_type": "execute_result"
    }
   ],
   "source": [
    "choice(reviews[1])"
   ]
  },
  {
   "cell_type": "code",
   "execution_count": null,
   "metadata": {},
   "outputs": [],
   "source": []
  }
 ],
 "metadata": {
  "kernelspec": {
   "display_name": "base",
   "language": "python",
   "name": "python3"
  },
  "language_info": {
   "codemirror_mode": {
    "name": "ipython",
    "version": 3
   },
   "file_extension": ".py",
   "mimetype": "text/x-python",
   "name": "python",
   "nbconvert_exporter": "python",
   "pygments_lexer": "ipython3",
   "version": "3.11.5"
  }
 },
 "nbformat": 4,
 "nbformat_minor": 2
}
