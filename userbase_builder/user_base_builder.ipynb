{
 "cells": [
  {
   "cell_type": "code",
   "execution_count": 49,
   "metadata": {
    "ExecuteTime": {
     "end_time": "2024-11-08T12:44:22.327096Z",
     "start_time": "2024-11-08T12:44:22.324819Z"
    }
   },
   "outputs": [],
   "source": [
    "import pandas as pd\n",
    "import numpy as np"
   ]
  },
  {
   "cell_type": "code",
   "execution_count": 50,
   "metadata": {
    "ExecuteTime": {
     "end_time": "2024-11-08T12:44:22.336359Z",
     "start_time": "2024-11-08T12:44:22.331636Z"
    }
   },
   "outputs": [],
   "source": [
    "NUM_USERS = 1000\n",
    "PROFESSOR_RATE = 0.7\n",
    "STUDENT_RATE = 0.3"
   ]
  },
  {
   "cell_type": "code",
   "execution_count": 51,
   "metadata": {
    "ExecuteTime": {
     "end_time": "2024-11-08T12:44:22.379877Z",
     "start_time": "2024-11-08T12:44:22.375538Z"
    }
   },
   "outputs": [],
   "source": [
    "data = pd.read_csv('../scraping/results.csv')"
   ]
  },
  {
   "cell_type": "code",
   "execution_count": 52,
   "metadata": {
    "ExecuteTime": {
     "end_time": "2024-11-08T12:44:22.423784Z",
     "start_time": "2024-11-08T12:44:22.420790Z"
    }
   },
   "outputs": [],
   "source": [
    "data['student_count'] = data['student_count'] + 10\n",
    "data['professor_count'] = data['professor_count'].clip(10)"
   ]
  },
  {
   "cell_type": "code",
   "execution_count": 53,
   "metadata": {
    "ExecuteTime": {
     "end_time": "2024-11-08T12:44:22.470460Z",
     "start_time": "2024-11-08T12:44:22.465924Z"
    }
   },
   "outputs": [],
   "source": [
    "data['student_rate'] = data['student_count'] / data['student_count'].sum()\n",
    "data['professor_rate'] = data['professor_count'] / data['professor_count'].sum()"
   ]
  },
  {
   "cell_type": "code",
   "execution_count": 54,
   "metadata": {
    "ExecuteTime": {
     "end_time": "2024-11-08T12:44:22.516442Z",
     "start_time": "2024-11-08T12:44:22.512760Z"
    }
   },
   "outputs": [],
   "source": [
    "users = pd.DataFrame()"
   ]
  },
  {
   "cell_type": "code",
   "execution_count": 55,
   "metadata": {
    "ExecuteTime": {
     "end_time": "2024-11-08T12:44:22.564626Z",
     "start_time": "2024-11-08T12:44:22.557961Z"
    }
   },
   "outputs": [],
   "source": [
    "users['user_id'] = range(NUM_USERS)\n",
    "users['is_professor'] = np.random.choice([False, True], p = [1 - PROFESSOR_RATE, PROFESSOR_RATE], size = NUM_USERS)\n",
    "users['is_student'] = np.random.choice([False, True], p = [1 - STUDENT_RATE, STUDENT_RATE], size = NUM_USERS)"
   ]
  },
  {
   "cell_type": "code",
   "execution_count": 56,
   "metadata": {
    "ExecuteTime": {
     "end_time": "2024-11-08T12:44:22.610390Z",
     "start_time": "2024-11-08T12:44:22.607855Z"
    }
   },
   "outputs": [],
   "source": [
    "num_professors = users['is_professor'].sum()\n",
    "num_students = users['is_student'].sum()"
   ]
  },
  {
   "cell_type": "code",
   "execution_count": 57,
   "metadata": {
    "ExecuteTime": {
     "end_time": "2024-11-08T12:44:22.659577Z",
     "start_time": "2024-11-08T12:44:22.654259Z"
    }
   },
   "outputs": [],
   "source": [
    "users.loc[users['is_professor'] == True, 'teaching_subject'] = np.random.choice(data['subject_eng'].values, num_professors, p = data['professor_rate'])\n",
    "\n",
    "users.loc[users['is_student'] == True, 'learning_subject'] = np.random.choice(data['subject_eng'].values, num_students, p = data['student_rate'])\n",
    "\n",
    "\n",
    "users = users[users['teaching_subject'] != users['learning_subject']]"
   ]
  },
  {
   "cell_type": "code",
   "execution_count": 58,
   "metadata": {
    "ExecuteTime": {
     "end_time": "2024-11-08T12:44:22.708741Z",
     "start_time": "2024-11-08T12:44:22.703225Z"
    }
   },
   "outputs": [],
   "source": [
    "users = users.dropna(subset = ['teaching_subject', 'learning_subject'], how = 'all')\n",
    "users = users.drop(columns = ['is_professor', 'is_student'])"
   ]
  },
  {
   "cell_type": "code",
   "execution_count": 59,
   "metadata": {
    "ExecuteTime": {
     "end_time": "2024-11-08T12:44:22.762525Z",
     "start_time": "2024-11-08T12:44:22.750733Z"
    }
   },
   "outputs": [],
   "source": [
    "edges = pd.merge(users, users, left_on='teaching_subject', right_on='learning_subject', suffixes=('_teacher', '_student'))\n",
    "edges = edges.dropna(subset=['teaching_subject_teacher', 'learning_subject_student'])\n",
    "edges = edges[['user_id_teacher', 'user_id_student', 'teaching_subject_teacher']]\n",
    "edges = edges.rename(columns = {'teaching_subject_teacher' : 'teaching'})"
   ]
  },
  {
   "cell_type": "code",
   "execution_count": 60,
   "metadata": {
    "ExecuteTime": {
     "end_time": "2024-11-08T12:44:22.804710Z",
     "start_time": "2024-11-08T12:44:22.797463Z"
    }
   },
   "outputs": [],
   "source": [
    "edges.to_csv('teacher_student_connections.csv', index = False)"
   ]
  },
  {
   "cell_type": "code",
   "execution_count": null,
   "metadata": {
    "ExecuteTime": {
     "end_time": "2024-11-08T12:44:22.845834Z",
     "start_time": "2024-11-08T12:44:22.844312Z"
    }
   },
   "outputs": [],
   "source": []
  }
 ],
 "metadata": {
  "kernelspec": {
   "display_name": "base",
   "language": "python",
   "name": "python3"
  },
  "language_info": {
   "codemirror_mode": {
    "name": "ipython",
    "version": 3
   },
   "file_extension": ".py",
   "mimetype": "text/x-python",
   "name": "python",
   "nbconvert_exporter": "python",
   "pygments_lexer": "ipython3",
   "version": "3.11.5"
  }
 },
 "nbformat": 4,
 "nbformat_minor": 2
}
