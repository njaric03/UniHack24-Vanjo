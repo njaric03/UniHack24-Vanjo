{
 "cells": [
  {
   "cell_type": "code",
   "metadata": {
    "ExecuteTime": {
     "end_time": "2024-11-08T19:21:46.337333Z",
     "start_time": "2024-11-08T19:21:46.332972Z"
    }
   },
   "source": [
    "import pandas as pd\n",
    "import numpy as np"
   ],
   "outputs": [],
   "execution_count": 307
  },
  {
   "metadata": {
    "ExecuteTime": {
     "end_time": "2024-11-08T19:21:46.800204Z",
     "start_time": "2024-11-08T19:21:46.797105Z"
    }
   },
   "cell_type": "code",
   "source": [
    "FIRST_NAMES = [\n",
    "    \"Andrei\", \"Maria\", \"Alexandru\", \"Ioana\", \"Mihai\", \"Elena\", \"Daniel\",\n",
    "    \"Gabriela\", \"Cristian\", \"Ana\", \"Florin\", \"Diana\", \"Sorin\", \"Roxana\",\n",
    "    \"Vasile\", \"Adriana\", \"Cătălin\", \"Raluca\", \"Ionuț\", \"Monica\",\n",
    "    \"George\", \"Mădălina\", \"Radu\", \"Oana\", \"Cosmin\", \"Simona\", \"Nicu\",\n",
    "    \"Camelia\", \"Lucian\", \"Alina\"\n",
    "]\n",
    "\n",
    "LAST_NAMES = [\n",
    "    \"Bobescu\", \"Ionescu\", \"Dumitrescu\", \"Stan\", \"Constantinescu\", \"Gheorghiu\",\n",
    "    \"Marinescu\", \"Radu\", \"Tudor\", \"Diaconu\", \"Mihailescu\", \"Preda\", \"Vasilescu\",\n",
    "    \"Enache\", \"Petrescu\", \"Nistor\", \"Sima\", \"Voinea\", \"Iancu\", \"Filip\",\n",
    "    \"Pavel\", \"Dobre\", \"Ciobanu\", \"Popa\", \"Bălan\", \"Stanciu\", \"Lupu\", \"Sârbu\",\n",
    "    \"Matei\", \"Georgescu\"\n",
    "]\n"
   ],
   "outputs": [],
   "execution_count": 308
  },
  {
   "cell_type": "code",
   "metadata": {
    "ExecuteTime": {
     "end_time": "2024-11-08T19:21:47.128032Z",
     "start_time": "2024-11-08T19:21:47.122653Z"
    }
   },
   "source": [
    "NUM_USERS = 1000\n",
    "PROFESSOR_RATE = 0.7\n",
    "STUDENT_RATE = 0.3"
   ],
   "outputs": [],
   "execution_count": 309
  },
  {
   "cell_type": "code",
   "metadata": {
    "ExecuteTime": {
     "end_time": "2024-11-08T19:21:47.429901Z",
     "start_time": "2024-11-08T19:21:47.422594Z"
    }
   },
   "source": "data = pd.read_csv('../resources/scraping/results.csv')",
   "outputs": [],
   "execution_count": 310
  },
  {
   "cell_type": "code",
   "metadata": {
    "ExecuteTime": {
     "end_time": "2024-11-08T19:21:49.122088Z",
     "start_time": "2024-11-08T19:21:49.116453Z"
    }
   },
   "source": [
    "data['student_count'] = data['student_count'] + 10\n",
    "data['professor_count'] = data['professor_count'].clip(10)"
   ],
   "outputs": [],
   "execution_count": 311
  },
  {
   "cell_type": "code",
   "metadata": {
    "ExecuteTime": {
     "end_time": "2024-11-08T19:21:49.329719Z",
     "start_time": "2024-11-08T19:21:49.323701Z"
    }
   },
   "source": [
    "data['student_rate'] = data['student_count'] / data['student_count'].sum()\n",
    "data['professor_rate'] = data['professor_count'] / data['professor_count'].sum()"
   ],
   "outputs": [],
   "execution_count": 312
  },
  {
   "cell_type": "code",
   "metadata": {
    "ExecuteTime": {
     "end_time": "2024-11-08T19:25:57.430824Z",
     "start_time": "2024-11-08T19:25:57.417170Z"
    }
   },
   "source": [
    "users = pd.DataFrame()\n",
    "users['user_id'] = range(NUM_USERS)\n",
    "users['is_professor'] = np.random.choice([False, True], p=[1 - PROFESSOR_RATE, PROFESSOR_RATE], size=NUM_USERS)\n",
    "users['is_student'] = np.random.choice([False, True], p=[1 - STUDENT_RATE, STUDENT_RATE], size=NUM_USERS)\n",
    "users['first_name'] = np.random.choice(FIRST_NAMES, size=NUM_USERS)\n",
    "users['last_name'] = np.random.choice(LAST_NAMES, size=NUM_USERS)\n",
    "users['rating_avg'] = np.random.normal(loc=3, scale=1, size=NUM_USERS).round(1).clip(min=1, max=5)\n",
    "users['email'] = users['last_name'].str.lower() + (pd.Series(['.'] * NUM_USERS)) + users['first_name'].str.lower() + np.random.randint(1, 100, NUM_USERS).astype(str) + (pd.Series(['@gmail.com'] * NUM_USERS))\n",
    "users = users.drop_duplicates(subset=['email'])"
   ],
   "outputs": [],
   "execution_count": 327
  },
  {
   "metadata": {
    "ExecuteTime": {
     "end_time": "2024-11-08T19:25:58.510459Z",
     "start_time": "2024-11-08T19:25:58.501129Z"
    }
   },
   "cell_type": "code",
   "source": "users",
   "outputs": [
    {
     "data": {
      "text/plain": [
       "     user_id  is_professor  is_student first_name       last_name  rating_avg  \\\n",
       "0          0          True       False     Simona           Filip         4.8   \n",
       "1          1          True       False        Ana            Radu         2.6   \n",
       "2          2         False        True     Cosmin  Constantinescu         2.1   \n",
       "3          3         False       False     Monica  Constantinescu         3.8   \n",
       "4          4          True       False        Ana          Enache         3.7   \n",
       "..       ...           ...         ...        ...             ...         ...   \n",
       "994      994          True        True      Ioana      Mihailescu         5.0   \n",
       "995      995         False        True   Mădălina         Ionescu         1.4   \n",
       "997      997         False       False     Cosmin           Preda         4.3   \n",
       "998      998          True       False      Diana          Nistor         2.2   \n",
       "999      999          True        True  Alexandru         Ionescu         4.2   \n",
       "\n",
       "                                 email  \n",
       "0             filip.simona16@gmail.com  \n",
       "1                  radu.ana3@gmail.com  \n",
       "2    constantinescu.cosmin91@gmail.com  \n",
       "3    constantinescu.monica52@gmail.com  \n",
       "4               enache.ana59@gmail.com  \n",
       "..                                 ...  \n",
       "994        mihailescu.ioana5@gmail.com  \n",
       "995       ionescu.mădălina47@gmail.com  \n",
       "997           preda.cosmin91@gmail.com  \n",
       "998           nistor.diana29@gmail.com  \n",
       "999      ionescu.alexandru78@gmail.com  \n",
       "\n",
       "[993 rows x 7 columns]"
      ],
      "text/html": [
       "<div>\n",
       "<style scoped>\n",
       "    .dataframe tbody tr th:only-of-type {\n",
       "        vertical-align: middle;\n",
       "    }\n",
       "\n",
       "    .dataframe tbody tr th {\n",
       "        vertical-align: top;\n",
       "    }\n",
       "\n",
       "    .dataframe thead th {\n",
       "        text-align: right;\n",
       "    }\n",
       "</style>\n",
       "<table border=\"1\" class=\"dataframe\">\n",
       "  <thead>\n",
       "    <tr style=\"text-align: right;\">\n",
       "      <th></th>\n",
       "      <th>user_id</th>\n",
       "      <th>is_professor</th>\n",
       "      <th>is_student</th>\n",
       "      <th>first_name</th>\n",
       "      <th>last_name</th>\n",
       "      <th>rating_avg</th>\n",
       "      <th>email</th>\n",
       "    </tr>\n",
       "  </thead>\n",
       "  <tbody>\n",
       "    <tr>\n",
       "      <th>0</th>\n",
       "      <td>0</td>\n",
       "      <td>True</td>\n",
       "      <td>False</td>\n",
       "      <td>Simona</td>\n",
       "      <td>Filip</td>\n",
       "      <td>4.8</td>\n",
       "      <td>filip.simona16@gmail.com</td>\n",
       "    </tr>\n",
       "    <tr>\n",
       "      <th>1</th>\n",
       "      <td>1</td>\n",
       "      <td>True</td>\n",
       "      <td>False</td>\n",
       "      <td>Ana</td>\n",
       "      <td>Radu</td>\n",
       "      <td>2.6</td>\n",
       "      <td>radu.ana3@gmail.com</td>\n",
       "    </tr>\n",
       "    <tr>\n",
       "      <th>2</th>\n",
       "      <td>2</td>\n",
       "      <td>False</td>\n",
       "      <td>True</td>\n",
       "      <td>Cosmin</td>\n",
       "      <td>Constantinescu</td>\n",
       "      <td>2.1</td>\n",
       "      <td>constantinescu.cosmin91@gmail.com</td>\n",
       "    </tr>\n",
       "    <tr>\n",
       "      <th>3</th>\n",
       "      <td>3</td>\n",
       "      <td>False</td>\n",
       "      <td>False</td>\n",
       "      <td>Monica</td>\n",
       "      <td>Constantinescu</td>\n",
       "      <td>3.8</td>\n",
       "      <td>constantinescu.monica52@gmail.com</td>\n",
       "    </tr>\n",
       "    <tr>\n",
       "      <th>4</th>\n",
       "      <td>4</td>\n",
       "      <td>True</td>\n",
       "      <td>False</td>\n",
       "      <td>Ana</td>\n",
       "      <td>Enache</td>\n",
       "      <td>3.7</td>\n",
       "      <td>enache.ana59@gmail.com</td>\n",
       "    </tr>\n",
       "    <tr>\n",
       "      <th>...</th>\n",
       "      <td>...</td>\n",
       "      <td>...</td>\n",
       "      <td>...</td>\n",
       "      <td>...</td>\n",
       "      <td>...</td>\n",
       "      <td>...</td>\n",
       "      <td>...</td>\n",
       "    </tr>\n",
       "    <tr>\n",
       "      <th>994</th>\n",
       "      <td>994</td>\n",
       "      <td>True</td>\n",
       "      <td>True</td>\n",
       "      <td>Ioana</td>\n",
       "      <td>Mihailescu</td>\n",
       "      <td>5.0</td>\n",
       "      <td>mihailescu.ioana5@gmail.com</td>\n",
       "    </tr>\n",
       "    <tr>\n",
       "      <th>995</th>\n",
       "      <td>995</td>\n",
       "      <td>False</td>\n",
       "      <td>True</td>\n",
       "      <td>Mădălina</td>\n",
       "      <td>Ionescu</td>\n",
       "      <td>1.4</td>\n",
       "      <td>ionescu.mădălina47@gmail.com</td>\n",
       "    </tr>\n",
       "    <tr>\n",
       "      <th>997</th>\n",
       "      <td>997</td>\n",
       "      <td>False</td>\n",
       "      <td>False</td>\n",
       "      <td>Cosmin</td>\n",
       "      <td>Preda</td>\n",
       "      <td>4.3</td>\n",
       "      <td>preda.cosmin91@gmail.com</td>\n",
       "    </tr>\n",
       "    <tr>\n",
       "      <th>998</th>\n",
       "      <td>998</td>\n",
       "      <td>True</td>\n",
       "      <td>False</td>\n",
       "      <td>Diana</td>\n",
       "      <td>Nistor</td>\n",
       "      <td>2.2</td>\n",
       "      <td>nistor.diana29@gmail.com</td>\n",
       "    </tr>\n",
       "    <tr>\n",
       "      <th>999</th>\n",
       "      <td>999</td>\n",
       "      <td>True</td>\n",
       "      <td>True</td>\n",
       "      <td>Alexandru</td>\n",
       "      <td>Ionescu</td>\n",
       "      <td>4.2</td>\n",
       "      <td>ionescu.alexandru78@gmail.com</td>\n",
       "    </tr>\n",
       "  </tbody>\n",
       "</table>\n",
       "<p>993 rows × 7 columns</p>\n",
       "</div>"
      ]
     },
     "execution_count": 328,
     "metadata": {},
     "output_type": "execute_result"
    }
   ],
   "execution_count": 328
  },
  {
   "cell_type": "code",
   "metadata": {
    "ExecuteTime": {
     "end_time": "2024-11-08T19:26:12.863345Z",
     "start_time": "2024-11-08T19:26:12.859386Z"
    }
   },
   "source": [
    "num_professors = users['is_professor'].sum()\n",
    "num_students = users['is_student'].sum()"
   ],
   "outputs": [],
   "execution_count": 329
  },
  {
   "cell_type": "code",
   "metadata": {
    "ExecuteTime": {
     "end_time": "2024-11-08T19:26:13.107262Z",
     "start_time": "2024-11-08T19:26:13.096814Z"
    }
   },
   "source": [
    "users.loc[users['is_professor'] == True, 'teaching_subject'] = np.random.choice(data['subject_eng'].values, num_professors, p = data['professor_rate'])\n",
    "\n",
    "users.loc[users['is_student'] == True, 'learning_subject'] = np.random.choice(data['subject_eng'].values, num_students, p = data['student_rate'])\n",
    "\n",
    "\n",
    "users = users[users['teaching_subject'] != users['learning_subject']]\n",
    "users = users.dropna(subset = ['teaching_subject', 'learning_subject'], how = 'all')\n"
   ],
   "outputs": [],
   "execution_count": 330
  },
  {
   "metadata": {
    "ExecuteTime": {
     "end_time": "2024-11-08T19:26:13.514530Z",
     "start_time": "2024-11-08T19:26:13.506910Z"
    }
   },
   "cell_type": "code",
   "source": "users.to_csv('../resources/userbase/users.csv', index = False)",
   "outputs": [],
   "execution_count": 331
  },
  {
   "cell_type": "code",
   "metadata": {
    "ExecuteTime": {
     "end_time": "2024-11-08T19:26:13.666201Z",
     "start_time": "2024-11-08T19:26:13.662911Z"
    }
   },
   "source": "users = users.drop(columns = ['is_professor', 'is_student'])",
   "outputs": [],
   "execution_count": 332
  },
  {
   "cell_type": "code",
   "metadata": {
    "ExecuteTime": {
     "end_time": "2024-11-08T19:26:14.209943Z",
     "start_time": "2024-11-08T19:26:14.188956Z"
    }
   },
   "source": [
    "edges = pd.merge(users, users, left_on='teaching_subject', right_on='learning_subject', suffixes=('_teacher', '_student'))\n",
    "edges = edges.dropna(subset=['teaching_subject_teacher', 'learning_subject_student'])\n",
    "edges = edges[['user_id_teacher', 'user_id_student', 'teaching_subject_teacher', 'rating_avg_teacher']]\n",
    "edges = edges.rename(columns = {'teaching_subject_teacher' : 'subject'})"
   ],
   "outputs": [],
   "execution_count": 333
  },
  {
   "cell_type": "code",
   "metadata": {
    "ExecuteTime": {
     "end_time": "2024-11-08T19:26:15.503965Z",
     "start_time": "2024-11-08T19:26:15.486028Z"
    }
   },
   "source": "edges.to_csv('../resources/userbase/teacher_student_connections.csv', index = False)",
   "outputs": [],
   "execution_count": 334
  },
  {
   "cell_type": "code",
   "metadata": {
    "ExecuteTime": {
     "end_time": "2024-11-08T16:20:06.539582Z",
     "start_time": "2024-11-08T16:20:06.537485Z"
    }
   },
   "source": "",
   "outputs": [],
   "execution_count": null
  }
 ],
 "metadata": {
  "kernelspec": {
   "display_name": "base",
   "language": "python",
   "name": "python3"
  },
  "language_info": {
   "codemirror_mode": {
    "name": "ipython",
    "version": 3
   },
   "file_extension": ".py",
   "mimetype": "text/x-python",
   "name": "python",
   "nbconvert_exporter": "python",
   "pygments_lexer": "ipython3",
   "version": "3.11.5"
  }
 },
 "nbformat": 4,
 "nbformat_minor": 2
}
