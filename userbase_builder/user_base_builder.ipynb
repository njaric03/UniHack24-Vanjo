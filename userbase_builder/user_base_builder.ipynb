{
 "cells": [
  {
   "cell_type": "code",
   "metadata": {
    "ExecuteTime": {
     "end_time": "2024-11-08T12:19:14.499718Z",
     "start_time": "2024-11-08T12:19:14.496651Z"
    }
   },
   "source": [
    "import pandas as pd\n",
    "import numpy as np"
   ],
   "outputs": [],
   "execution_count": 64
  },
  {
   "metadata": {
    "ExecuteTime": {
     "end_time": "2024-11-08T12:26:31.503863Z",
     "start_time": "2024-11-08T12:26:31.499862Z"
    }
   },
   "cell_type": "code",
   "source": [
    "NUM_USERS = 1000\n",
    "PROFESSOR_RATE = 0.7\n",
    "STUDENT_RATE = 0.3"
   ],
   "outputs": [],
   "execution_count": 96
  },
  {
   "cell_type": "code",
   "metadata": {
    "ExecuteTime": {
     "end_time": "2024-11-08T12:26:31.820472Z",
     "start_time": "2024-11-08T12:26:31.816490Z"
    }
   },
   "source": "data = pd.read_csv('../scraping/results.csv')",
   "outputs": [],
   "execution_count": 97
  },
  {
   "cell_type": "code",
   "metadata": {
    "ExecuteTime": {
     "end_time": "2024-11-08T12:26:32.005621Z",
     "start_time": "2024-11-08T12:26:32.001695Z"
    }
   },
   "source": [
    "data['student_count'] = data['student_count'] + 10\n",
    "data['professor_count'] = data['professor_count'].clip(10)"
   ],
   "outputs": [],
   "execution_count": 98
  },
  {
   "cell_type": "code",
   "metadata": {
    "ExecuteTime": {
     "end_time": "2024-11-08T12:26:32.185193Z",
     "start_time": "2024-11-08T12:26:32.180094Z"
    }
   },
   "source": [
    "data['student_rate'] = data['student_count'] / data['student_count'].sum()\n",
    "data['professor_rate'] = data['professor_count'] / data['professor_count'].sum()"
   ],
   "outputs": [],
   "execution_count": 99
  },
  {
   "metadata": {
    "ExecuteTime": {
     "end_time": "2024-11-08T12:30:02.897018Z",
     "start_time": "2024-11-08T12:30:02.893906Z"
    }
   },
   "cell_type": "code",
   "source": "users = pd.DataFrame()",
   "outputs": [],
   "execution_count": 112
  },
  {
   "metadata": {
    "ExecuteTime": {
     "end_time": "2024-11-08T12:30:03.124066Z",
     "start_time": "2024-11-08T12:30:03.120223Z"
    }
   },
   "cell_type": "code",
   "source": [
    "users['user_id'] = range(NUM_USERS)\n",
    "users['is_professor'] = np.random.choice([False, True], p = [1 - PROFESSOR_RATE, PROFESSOR_RATE], size = NUM_USERS)\n",
    "users['is_student'] = np.random.choice([False, True], p = [1 - STUDENT_RATE, STUDENT_RATE], size = NUM_USERS)"
   ],
   "outputs": [],
   "execution_count": 113
  },
  {
   "metadata": {
    "ExecuteTime": {
     "end_time": "2024-11-08T12:30:03.842674Z",
     "start_time": "2024-11-08T12:30:03.838661Z"
    }
   },
   "cell_type": "code",
   "source": [
    "num_professors = users['is_professor'].sum()\n",
    "num_students = users['is_student'].sum()"
   ],
   "outputs": [],
   "execution_count": 114
  },
  {
   "metadata": {
    "ExecuteTime": {
     "end_time": "2024-11-08T12:30:04.114713Z",
     "start_time": "2024-11-08T12:30:04.109069Z"
    }
   },
   "cell_type": "code",
   "source": [
    "users.loc[users['is_professor'] == True, 'teaching_subject'] = np.random.choice(data['subject_eng'].values, num_professors, p = data['professor_rate'])\n",
    "\n",
    "users.loc[users['is_student'] == True, 'learning_subject'] = np.random.choice(data['subject_eng'].values, num_students, p = data['student_rate'])"
   ],
   "outputs": [],
   "execution_count": 115
  },
  {
   "metadata": {
    "ExecuteTime": {
     "end_time": "2024-11-08T12:30:35.296096Z",
     "start_time": "2024-11-08T12:30:35.292051Z"
    }
   },
   "cell_type": "code",
   "source": [
    "users = users.dropna(subset = ['teaching_subject', 'learning_subject'], how = 'all')\n",
    "users = users.drop(columns = ['is_professor', 'is_student'])"
   ],
   "outputs": [],
   "execution_count": 119
  },
  {
   "metadata": {
    "ExecuteTime": {
     "end_time": "2024-11-08T12:37:33.069672Z",
     "start_time": "2024-11-08T12:37:33.057916Z"
    }
   },
   "cell_type": "code",
   "source": [
    "edges = pd.merge(users, users, left_on='teaching_subject', right_on='learning_subject', suffixes=('_teacher', '_student'))\n",
    "edges = edges.dropna(subset=['teaching_subject_teacher', 'learning_subject_student'])\n",
    "edges = edges[['user_id_teacher', 'user_id_student', 'teaching_subject_teacher']]\n",
    "edges = edges.rename(columns = {'teaching_subject_teacher' : 'teaching'})"
   ],
   "outputs": [],
   "execution_count": 127
  },
  {
   "metadata": {
    "ExecuteTime": {
     "end_time": "2024-11-08T12:38:12.754961Z",
     "start_time": "2024-11-08T12:38:12.741993Z"
    }
   },
   "cell_type": "code",
   "source": "edges.to_csv('teacher_student_connections.csv', index = False)",
   "outputs": [],
   "execution_count": 129
  },
  {
   "metadata": {},
   "cell_type": "code",
   "outputs": [],
   "execution_count": null,
   "source": ""
  }
 ],
 "metadata": {
  "kernelspec": {
   "display_name": "base",
   "language": "python",
   "name": "python3"
  },
  "language_info": {
   "codemirror_mode": {
    "name": "ipython",
    "version": 3
   },
   "file_extension": ".py",
   "mimetype": "text/x-python",
   "name": "python",
   "nbconvert_exporter": "python",
   "pygments_lexer": "ipython3",
   "version": "3.11.5"
  }
 },
 "nbformat": 4,
 "nbformat_minor": 2
}
