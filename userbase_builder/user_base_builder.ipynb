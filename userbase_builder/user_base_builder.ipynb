{
 "cells": [
  {
   "cell_type": "code",
   "metadata": {
    "ExecuteTime": {
     "end_time": "2024-11-08T16:00:01.337098Z",
     "start_time": "2024-11-08T16:00:01.333270Z"
    }
   },
   "source": [
    "import pandas as pd\n",
    "import numpy as np"
   ],
   "outputs": [],
   "execution_count": 238
  },
  {
   "cell_type": "code",
   "metadata": {
    "ExecuteTime": {
     "end_time": "2024-11-08T16:00:01.564152Z",
     "start_time": "2024-11-08T16:00:01.560624Z"
    }
   },
   "source": [
    "NUM_USERS = 1000\n",
    "PROFESSOR_RATE = 0.7\n",
    "STUDENT_RATE = 0.3"
   ],
   "outputs": [],
   "execution_count": 239
  },
  {
   "cell_type": "code",
   "metadata": {
    "ExecuteTime": {
     "end_time": "2024-11-08T16:00:01.864284Z",
     "start_time": "2024-11-08T16:00:01.858586Z"
    }
   },
   "source": [
    "data = pd.read_csv('../scraping/results.csv')"
   ],
   "outputs": [],
   "execution_count": 240
  },
  {
   "cell_type": "code",
   "metadata": {
    "ExecuteTime": {
     "end_time": "2024-11-08T16:00:02.058415Z",
     "start_time": "2024-11-08T16:00:02.052437Z"
    }
   },
   "source": [
    "data['student_count'] = data['student_count'] + 10\n",
    "data['professor_count'] = data['professor_count'].clip(10)"
   ],
   "outputs": [],
   "execution_count": 241
  },
  {
   "cell_type": "code",
   "metadata": {
    "ExecuteTime": {
     "end_time": "2024-11-08T16:00:02.289046Z",
     "start_time": "2024-11-08T16:00:02.283255Z"
    }
   },
   "source": [
    "data['student_rate'] = data['student_count'] / data['student_count'].sum()\n",
    "data['professor_rate'] = data['professor_count'] / data['professor_count'].sum()"
   ],
   "outputs": [],
   "execution_count": 242
  },
  {
   "cell_type": "code",
   "metadata": {
    "ExecuteTime": {
     "end_time": "2024-11-08T16:00:02.517009Z",
     "start_time": "2024-11-08T16:00:02.511628Z"
    }
   },
   "source": [
    "users = pd.DataFrame()"
   ],
   "outputs": [],
   "execution_count": 243
  },
  {
   "cell_type": "code",
   "metadata": {
    "ExecuteTime": {
     "end_time": "2024-11-08T16:00:02.743957Z",
     "start_time": "2024-11-08T16:00:02.736705Z"
    }
   },
   "source": [
    "users['user_id'] = range(NUM_USERS)\n",
    "users['is_professor'] = np.random.choice([False, True], p = [1 - PROFESSOR_RATE, PROFESSOR_RATE], size = NUM_USERS)\n",
    "users['is_student'] = np.random.choice([False, True], p = [1 - STUDENT_RATE, STUDENT_RATE], size = NUM_USERS)"
   ],
   "outputs": [],
   "execution_count": 244
  },
  {
   "cell_type": "code",
   "metadata": {
    "ExecuteTime": {
     "end_time": "2024-11-08T16:00:03.135408Z",
     "start_time": "2024-11-08T16:00:03.131439Z"
    }
   },
   "source": [
    "num_professors = users['is_professor'].sum()\n",
    "num_students = users['is_student'].sum()"
   ],
   "outputs": [],
   "execution_count": 245
  },
  {
   "cell_type": "code",
   "metadata": {
    "ExecuteTime": {
     "end_time": "2024-11-08T16:00:03.618629Z",
     "start_time": "2024-11-08T16:00:03.610925Z"
    }
   },
   "source": [
    "users.loc[users['is_professor'] == True, 'teaching_subject'] = np.random.choice(data['subject_eng'].values, num_professors, p = data['professor_rate'])\n",
    "\n",
    "users.loc[users['is_student'] == True, 'learning_subject'] = np.random.choice(data['subject_eng'].values, num_students, p = data['student_rate'])\n",
    "\n",
    "\n",
    "users = users[users['teaching_subject'] != users['learning_subject']]\n",
    "users = users.dropna(subset = ['teaching_subject', 'learning_subject'], how = 'all')\n"
   ],
   "outputs": [],
   "execution_count": 246
  },
  {
   "metadata": {
    "ExecuteTime": {
     "end_time": "2024-11-08T16:00:04.247255Z",
     "start_time": "2024-11-08T16:00:04.239430Z"
    }
   },
   "cell_type": "code",
   "source": "users.to_csv('users.csv', index = False)",
   "outputs": [],
   "execution_count": 247
  },
  {
   "cell_type": "code",
   "metadata": {
    "ExecuteTime": {
     "end_time": "2024-11-08T16:00:04.507708Z",
     "start_time": "2024-11-08T16:00:04.502066Z"
    }
   },
   "source": "users = users.drop(columns = ['is_professor', 'is_student'])",
   "outputs": [],
   "execution_count": 248
  },
  {
   "cell_type": "code",
   "metadata": {
    "ExecuteTime": {
     "end_time": "2024-11-08T16:00:04.846459Z",
     "start_time": "2024-11-08T16:00:04.821180Z"
    }
   },
   "source": [
    "edges = pd.merge(users, users, left_on='teaching_subject', right_on='learning_subject', suffixes=('_teacher', '_student'))\n",
    "edges = edges.dropna(subset=['teaching_subject_teacher', 'learning_subject_student'])\n",
    "edges = edges[['user_id_teacher', 'user_id_student', 'teaching_subject_teacher']]\n",
    "edges = edges.rename(columns = {'teaching_subject_teacher' : 'teaching'})"
   ],
   "outputs": [],
   "execution_count": 249
  },
  {
   "cell_type": "code",
   "metadata": {
    "ExecuteTime": {
     "end_time": "2024-11-08T16:00:05.478879Z",
     "start_time": "2024-11-08T16:00:05.465357Z"
    }
   },
   "source": [
    "edges.to_csv('teacher_student_connections.csv', index = False)"
   ],
   "outputs": [],
   "execution_count": 250
  },
  {
   "cell_type": "code",
   "execution_count": null,
   "metadata": {
    "ExecuteTime": {
     "end_time": "2024-11-08T12:44:22.845834Z",
     "start_time": "2024-11-08T12:44:22.844312Z"
    }
   },
   "outputs": [],
   "source": []
  }
 ],
 "metadata": {
  "kernelspec": {
   "display_name": "base",
   "language": "python",
   "name": "python3"
  },
  "language_info": {
   "codemirror_mode": {
    "name": "ipython",
    "version": 3
   },
   "file_extension": ".py",
   "mimetype": "text/x-python",
   "name": "python",
   "nbconvert_exporter": "python",
   "pygments_lexer": "ipython3",
   "version": "3.11.5"
  }
 },
 "nbformat": 4,
 "nbformat_minor": 2
}
