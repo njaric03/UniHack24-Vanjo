{
 "cells": [
  {
   "cell_type": "code",
   "metadata": {
    "ExecuteTime": {
     "end_time": "2024-11-08T14:00:26.983487Z",
     "start_time": "2024-11-08T14:00:26.976748Z"
    }
   },
   "source": [
    "import pandas as pd\n",
    "import numpy as np"
   ],
   "outputs": [],
   "execution_count": 219
  },
  {
   "metadata": {
    "ExecuteTime": {
     "end_time": "2024-11-08T14:00:27.147438Z",
     "start_time": "2024-11-08T14:00:27.143709Z"
    }
   },
   "cell_type": "code",
   "source": [
    "FIRST_NAMES = [\n",
    "    \"Andrei\", \"Maria\", \"Alexandru\", \"Ioana\", \"Mihai\", \"Elena\", \"Daniel\", \n",
    "    \"Gabriela\", \"Cristian\", \"Ana\", \"Florin\", \"Diana\", \"Sorin\", \"Roxana\", \n",
    "    \"Vasile\", \"Adriana\", \"Cătălin\", \"Raluca\", \"Ionuț\", \"Monica\", \n",
    "    \"George\", \"Mădălina\", \"Radu\", \"Oana\", \"Cosmin\", \"Simona\", \"Nicu\", \n",
    "    \"Camelia\", \"Lucian\", \"Alina\"\n",
    "]\n",
    "\n",
    "LAST_NAMES = [\n",
    "    \"Bobescu\", \"Ionescu\", \"Dumitrescu\", \"Stan\", \"Constantinescu\", \"Gheorghiu\", \n",
    "    \"Marinescu\", \"Radu\", \"Tudor\", \"Diaconu\", \"Mihailescu\", \"Preda\", \"Vasilescu\", \n",
    "    \"Enache\", \"Petrescu\", \"Nistor\", \"Sima\", \"Voinea\", \"Iancu\", \"Filip\", \n",
    "    \"Pavel\", \"Dobre\", \"Ciobanu\", \"Popa\", \"Bălan\", \"Stanciu\", \"Lupu\", \"Sârbu\", \n",
    "    \"Matei\", \"Georgescu\"\n",
    "]\n"
   ],
   "outputs": [],
   "execution_count": 220
  },
  {
   "metadata": {
    "ExecuteTime": {
     "end_time": "2024-11-08T14:00:27.344876Z",
     "start_time": "2024-11-08T14:00:27.340386Z"
    }
   },
   "cell_type": "code",
   "source": [
    "NUM_USERS = 1000\n",
    "PROFESSOR_RATE = 0.7\n",
    "STUDENT_RATE = 0.3"
   ],
   "outputs": [],
   "execution_count": 221
  },
  {
   "cell_type": "code",
   "metadata": {
    "ExecuteTime": {
     "end_time": "2024-11-08T14:00:27.531923Z",
     "start_time": "2024-11-08T14:00:27.527972Z"
    }
   },
   "source": "data = pd.read_csv('../scraping/results.csv')",
   "outputs": [],
   "execution_count": 222
  },
  {
   "cell_type": "code",
   "metadata": {
    "ExecuteTime": {
     "end_time": "2024-11-08T14:00:27.730947Z",
     "start_time": "2024-11-08T14:00:27.725330Z"
    }
   },
   "source": [
    "data['student_count'] = data['student_count'] + 10\n",
    "data['professor_count'] = data['professor_count'].clip(10)"
   ],
   "outputs": [],
   "execution_count": 223
  },
  {
   "cell_type": "code",
   "metadata": {
    "ExecuteTime": {
     "end_time": "2024-11-08T14:00:27.939150Z",
     "start_time": "2024-11-08T14:00:27.933978Z"
    }
   },
   "source": [
    "data['student_rate'] = data['student_count'] / data['student_count'].sum()\n",
    "data['professor_rate'] = data['professor_count'] / data['professor_count'].sum()"
   ],
   "outputs": [],
   "execution_count": 224
  },
  {
   "metadata": {
    "ExecuteTime": {
     "end_time": "2024-11-08T14:00:28.369371Z",
     "start_time": "2024-11-08T14:00:28.367206Z"
    }
   },
   "cell_type": "code",
   "source": "",
   "outputs": [],
   "execution_count": null
  },
  {
   "metadata": {
    "ExecuteTime": {
     "end_time": "2024-11-08T14:00:28.649693Z",
     "start_time": "2024-11-08T14:00:28.641469Z"
    }
   },
   "cell_type": "code",
   "source": [
    "users = pd.DataFrame()\n",
    "users['user_id'] = range(NUM_USERS)\n",
    "users['is_professor'] = np.random.choice([False, True], p = [1 - PROFESSOR_RATE, PROFESSOR_RATE], size = NUM_USERS)\n",
    "users['is_student'] = np.random.choice([False, True], p = [1 - STUDENT_RATE, STUDENT_RATE], size = NUM_USERS)\n",
    "users['first_name'] = np.random.choice(FIRST_NAMES, size = NUM_USERS)\n",
    "users['last_name'] = np.random.choice(LAST_NAMES, size = NUM_USERS)\n",
    "users['rating_avg'] = np.random.normal(loc = 2.5, scale = 1, size = NUM_USERS).round(1).clip(min = 0, max = 5)\n",
    "users['email'] = users['last_name'].str.lower() + '.' + users['first_name'].str.lower() + \"@gmail.rom\""
   ],
   "outputs": [],
   "execution_count": 225
  },
  {
   "metadata": {
    "ExecuteTime": {
     "end_time": "2024-11-08T14:00:29.430045Z",
     "start_time": "2024-11-08T14:00:29.427703Z"
    }
   },
   "cell_type": "code",
   "source": [
    "num_professors = users['is_professor'].sum()\n",
    "num_students = users['is_student'].sum()"
   ],
   "outputs": [],
   "execution_count": 226
  },
  {
   "metadata": {
    "ExecuteTime": {
     "end_time": "2024-11-08T14:00:29.825720Z",
     "start_time": "2024-11-08T14:00:29.817800Z"
    }
   },
   "cell_type": "code",
   "source": [
    "users.loc[users['is_professor'] == True, 'teaching_subject'] = np.random.choice(data['subject_eng'].values, num_professors, p = data['professor_rate'])\n",
    "\n",
    "users.loc[users['is_student'] == True, 'learning_subject'] = np.random.choice(data['subject_eng'].values, num_students, p = data['student_rate'])\n",
    "\n",
    "\n",
    "users = users[users['teaching_subject'] != users['learning_subject']]"
   ],
   "outputs": [],
   "execution_count": 227
  },
  {
   "metadata": {
    "ExecuteTime": {
     "end_time": "2024-11-08T14:00:30.262138Z",
     "start_time": "2024-11-08T14:00:30.256940Z"
    }
   },
   "cell_type": "code",
   "source": [
    "users = users.dropna(subset = ['teaching_subject', 'learning_subject'], how = 'all')\n",
    "users = users.drop(columns = ['is_professor', 'is_student'])"
   ],
   "outputs": [],
   "execution_count": 228
  },
  {
   "metadata": {
    "ExecuteTime": {
     "end_time": "2024-11-08T14:00:30.843683Z",
     "start_time": "2024-11-08T14:00:30.835956Z"
    }
   },
   "cell_type": "code",
   "source": "users",
   "outputs": [
    {
     "data": {
      "text/plain": [
       "     user_id first_name  last_name  rating_avg                      email  \\\n",
       "3          3     Cosmin    Ionescu         2.0   ionescu.cosmin@gmail.rom   \n",
       "4          4    Camelia    Bobescu         0.3  bobescu.camelia@gmail.rom   \n",
       "5          5       Radu  Marinescu         2.7   marinescu.radu@gmail.rom   \n",
       "7          7      Alina      Tudor         3.2      tudor.alina@gmail.rom   \n",
       "9          9     Florin       Sima         1.8      sima.florin@gmail.rom   \n",
       "..       ...        ...        ...         ...                        ...   \n",
       "993      993     Florin       Radu         2.0      radu.florin@gmail.rom   \n",
       "994      994      Ionuț      Dobre         4.2      dobre.ionuț@gmail.rom   \n",
       "995      995     Roxana      Matei         2.6     matei.roxana@gmail.rom   \n",
       "996      996      Mihai       Stan         3.4       stan.mihai@gmail.rom   \n",
       "997      997      Elena      Filip         2.1      filip.elena@gmail.rom   \n",
       "\n",
       "      teaching_subject   learning_subject  \n",
       "3    Political science         Psychology  \n",
       "4    Romanian language                NaN  \n",
       "5                  NaN          Geography  \n",
       "7     English language                NaN  \n",
       "9          Mathematics                NaN  \n",
       "..                 ...                ...  \n",
       "993        Mathematics                NaN  \n",
       "994   English language                NaN  \n",
       "995            Physics                NaN  \n",
       "996                NaN  Romanian language  \n",
       "997    French language                NaN  \n",
       "\n",
       "[764 rows x 7 columns]"
      ],
      "text/html": [
       "<div>\n",
       "<style scoped>\n",
       "    .dataframe tbody tr th:only-of-type {\n",
       "        vertical-align: middle;\n",
       "    }\n",
       "\n",
       "    .dataframe tbody tr th {\n",
       "        vertical-align: top;\n",
       "    }\n",
       "\n",
       "    .dataframe thead th {\n",
       "        text-align: right;\n",
       "    }\n",
       "</style>\n",
       "<table border=\"1\" class=\"dataframe\">\n",
       "  <thead>\n",
       "    <tr style=\"text-align: right;\">\n",
       "      <th></th>\n",
       "      <th>user_id</th>\n",
       "      <th>first_name</th>\n",
       "      <th>last_name</th>\n",
       "      <th>rating_avg</th>\n",
       "      <th>email</th>\n",
       "      <th>teaching_subject</th>\n",
       "      <th>learning_subject</th>\n",
       "    </tr>\n",
       "  </thead>\n",
       "  <tbody>\n",
       "    <tr>\n",
       "      <th>3</th>\n",
       "      <td>3</td>\n",
       "      <td>Cosmin</td>\n",
       "      <td>Ionescu</td>\n",
       "      <td>2.0</td>\n",
       "      <td>ionescu.cosmin@gmail.rom</td>\n",
       "      <td>Political science</td>\n",
       "      <td>Psychology</td>\n",
       "    </tr>\n",
       "    <tr>\n",
       "      <th>4</th>\n",
       "      <td>4</td>\n",
       "      <td>Camelia</td>\n",
       "      <td>Bobescu</td>\n",
       "      <td>0.3</td>\n",
       "      <td>bobescu.camelia@gmail.rom</td>\n",
       "      <td>Romanian language</td>\n",
       "      <td>NaN</td>\n",
       "    </tr>\n",
       "    <tr>\n",
       "      <th>5</th>\n",
       "      <td>5</td>\n",
       "      <td>Radu</td>\n",
       "      <td>Marinescu</td>\n",
       "      <td>2.7</td>\n",
       "      <td>marinescu.radu@gmail.rom</td>\n",
       "      <td>NaN</td>\n",
       "      <td>Geography</td>\n",
       "    </tr>\n",
       "    <tr>\n",
       "      <th>7</th>\n",
       "      <td>7</td>\n",
       "      <td>Alina</td>\n",
       "      <td>Tudor</td>\n",
       "      <td>3.2</td>\n",
       "      <td>tudor.alina@gmail.rom</td>\n",
       "      <td>English language</td>\n",
       "      <td>NaN</td>\n",
       "    </tr>\n",
       "    <tr>\n",
       "      <th>9</th>\n",
       "      <td>9</td>\n",
       "      <td>Florin</td>\n",
       "      <td>Sima</td>\n",
       "      <td>1.8</td>\n",
       "      <td>sima.florin@gmail.rom</td>\n",
       "      <td>Mathematics</td>\n",
       "      <td>NaN</td>\n",
       "    </tr>\n",
       "    <tr>\n",
       "      <th>...</th>\n",
       "      <td>...</td>\n",
       "      <td>...</td>\n",
       "      <td>...</td>\n",
       "      <td>...</td>\n",
       "      <td>...</td>\n",
       "      <td>...</td>\n",
       "      <td>...</td>\n",
       "    </tr>\n",
       "    <tr>\n",
       "      <th>993</th>\n",
       "      <td>993</td>\n",
       "      <td>Florin</td>\n",
       "      <td>Radu</td>\n",
       "      <td>2.0</td>\n",
       "      <td>radu.florin@gmail.rom</td>\n",
       "      <td>Mathematics</td>\n",
       "      <td>NaN</td>\n",
       "    </tr>\n",
       "    <tr>\n",
       "      <th>994</th>\n",
       "      <td>994</td>\n",
       "      <td>Ionuț</td>\n",
       "      <td>Dobre</td>\n",
       "      <td>4.2</td>\n",
       "      <td>dobre.ionuț@gmail.rom</td>\n",
       "      <td>English language</td>\n",
       "      <td>NaN</td>\n",
       "    </tr>\n",
       "    <tr>\n",
       "      <th>995</th>\n",
       "      <td>995</td>\n",
       "      <td>Roxana</td>\n",
       "      <td>Matei</td>\n",
       "      <td>2.6</td>\n",
       "      <td>matei.roxana@gmail.rom</td>\n",
       "      <td>Physics</td>\n",
       "      <td>NaN</td>\n",
       "    </tr>\n",
       "    <tr>\n",
       "      <th>996</th>\n",
       "      <td>996</td>\n",
       "      <td>Mihai</td>\n",
       "      <td>Stan</td>\n",
       "      <td>3.4</td>\n",
       "      <td>stan.mihai@gmail.rom</td>\n",
       "      <td>NaN</td>\n",
       "      <td>Romanian language</td>\n",
       "    </tr>\n",
       "    <tr>\n",
       "      <th>997</th>\n",
       "      <td>997</td>\n",
       "      <td>Elena</td>\n",
       "      <td>Filip</td>\n",
       "      <td>2.1</td>\n",
       "      <td>filip.elena@gmail.rom</td>\n",
       "      <td>French language</td>\n",
       "      <td>NaN</td>\n",
       "    </tr>\n",
       "  </tbody>\n",
       "</table>\n",
       "<p>764 rows × 7 columns</p>\n",
       "</div>"
      ]
     },
     "execution_count": 229,
     "metadata": {},
     "output_type": "execute_result"
    }
   ],
   "execution_count": 229
  },
  {
   "metadata": {
    "ExecuteTime": {
     "end_time": "2024-11-08T14:04:15.030609Z",
     "start_time": "2024-11-08T14:04:15.024848Z"
    }
   },
   "cell_type": "code",
   "source": "users.to_csv('users.csv', index = False)",
   "outputs": [],
   "execution_count": 235
  },
  {
   "metadata": {
    "ExecuteTime": {
     "end_time": "2024-11-08T14:04:15.268430Z",
     "start_time": "2024-11-08T14:04:15.247071Z"
    }
   },
   "cell_type": "code",
   "source": [
    "edges = pd.merge(users, users, left_on='teaching_subject', right_on='learning_subject', suffixes=('_teacher', '_student'))\n",
    "edges = edges.dropna(subset=['teaching_subject_teacher', 'learning_subject_student'])\n",
    "edges = edges[['user_id_teacher', 'user_id_student', 'teaching_subject_teacher']]\n",
    "edges = edges.rename(columns = {'teaching_subject_teacher' : 'teaching'})"
   ],
   "outputs": [],
   "execution_count": 236
  },
  {
   "metadata": {
    "ExecuteTime": {
     "end_time": "2024-11-08T14:04:15.470769Z",
     "start_time": "2024-11-08T14:04:15.461291Z"
    }
   },
   "cell_type": "code",
   "source": "edges.to_csv('teacher_student_connections.csv', index = False)",
   "outputs": [],
   "execution_count": 237
  },
  {
   "metadata": {
    "ExecuteTime": {
     "end_time": "2024-11-08T12:44:22.845834Z",
     "start_time": "2024-11-08T12:44:22.844312Z"
    }
   },
   "cell_type": "code",
   "source": "",
   "outputs": [],
   "execution_count": null
  }
 ],
 "metadata": {
  "kernelspec": {
   "display_name": "base",
   "language": "python",
   "name": "python3"
  },
  "language_info": {
   "codemirror_mode": {
    "name": "ipython",
    "version": 3
   },
   "file_extension": ".py",
   "mimetype": "text/x-python",
   "name": "python",
   "nbconvert_exporter": "python",
   "pygments_lexer": "ipython3",
   "version": "3.11.5"
  }
 },
 "nbformat": 4,
 "nbformat_minor": 2
}
