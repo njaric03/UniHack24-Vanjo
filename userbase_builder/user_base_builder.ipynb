{
 "cells": [
  {
   "cell_type": "code",
   "metadata": {
    "ExecuteTime": {
     "end_time": "2024-11-08T16:06:27.601617Z",
     "start_time": "2024-11-08T16:06:27.596972Z"
    }
   },
   "source": [
    "import pandas as pd\n",
    "import numpy as np"
   ],
   "outputs": [],
   "execution_count": 251
  },
  {
   "metadata": {
    "ExecuteTime": {
     "end_time": "2024-11-08T16:06:27.783256Z",
     "start_time": "2024-11-08T16:06:27.778799Z"
    }
   },
   "cell_type": "code",
   "source": [
    "FIRST_NAMES = [\n",
    "    \"Andrei\", \"Maria\", \"Alexandru\", \"Ioana\", \"Mihai\", \"Elena\", \"Daniel\",\n",
    "    \"Gabriela\", \"Cristian\", \"Ana\", \"Florin\", \"Diana\", \"Sorin\", \"Roxana\",\n",
    "    \"Vasile\", \"Adriana\", \"Cătălin\", \"Raluca\", \"Ionuț\", \"Monica\",\n",
    "    \"George\", \"Mădălina\", \"Radu\", \"Oana\", \"Cosmin\", \"Simona\", \"Nicu\",\n",
    "    \"Camelia\", \"Lucian\", \"Alina\"\n",
    "]\n",
    "\n",
    "LAST_NAMES = [\n",
    "    \"Bobescu\", \"Ionescu\", \"Dumitrescu\", \"Stan\", \"Constantinescu\", \"Gheorghiu\",\n",
    "    \"Marinescu\", \"Radu\", \"Tudor\", \"Diaconu\", \"Mihailescu\", \"Preda\", \"Vasilescu\",\n",
    "    \"Enache\", \"Petrescu\", \"Nistor\", \"Sima\", \"Voinea\", \"Iancu\", \"Filip\",\n",
    "    \"Pavel\", \"Dobre\", \"Ciobanu\", \"Popa\", \"Bălan\", \"Stanciu\", \"Lupu\", \"Sârbu\",\n",
    "    \"Matei\", \"Georgescu\"\n",
    "]\n"
   ],
   "outputs": [],
   "execution_count": 252
  },
  {
   "cell_type": "code",
   "metadata": {
    "ExecuteTime": {
     "end_time": "2024-11-08T16:06:27.970622Z",
     "start_time": "2024-11-08T16:06:27.966557Z"
    }
   },
   "source": [
    "NUM_USERS = 1000\n",
    "PROFESSOR_RATE = 0.7\n",
    "STUDENT_RATE = 0.3"
   ],
   "outputs": [],
   "execution_count": 253
  },
  {
   "cell_type": "code",
   "metadata": {
    "ExecuteTime": {
     "end_time": "2024-11-08T16:06:28.308627Z",
     "start_time": "2024-11-08T16:06:28.301597Z"
    }
   },
   "source": [
    "data = pd.read_csv('../scraping/results.csv')"
   ],
   "outputs": [],
   "execution_count": 254
  },
  {
   "cell_type": "code",
   "metadata": {
    "ExecuteTime": {
     "end_time": "2024-11-08T16:06:28.570767Z",
     "start_time": "2024-11-08T16:06:28.564618Z"
    }
   },
   "source": [
    "data['student_count'] = data['student_count'] + 10\n",
    "data['professor_count'] = data['professor_count'].clip(10)"
   ],
   "outputs": [],
   "execution_count": 255
  },
  {
   "cell_type": "code",
   "metadata": {
    "ExecuteTime": {
     "end_time": "2024-11-08T16:06:28.850523Z",
     "start_time": "2024-11-08T16:06:28.843467Z"
    }
   },
   "source": [
    "data['student_rate'] = data['student_count'] / data['student_count'].sum()\n",
    "data['professor_rate'] = data['professor_count'] / data['professor_count'].sum()"
   ],
   "outputs": [],
   "execution_count": 256
  },
  {
   "cell_type": "code",
   "metadata": {
    "ExecuteTime": {
     "end_time": "2024-11-08T16:06:29.201173Z",
     "start_time": "2024-11-08T16:06:29.197581Z"
    }
   },
   "source": [
    "users = pd.DataFrame()"
   ],
   "outputs": [],
   "execution_count": 257
  },
  {
   "cell_type": "code",
   "metadata": {
    "ExecuteTime": {
     "end_time": "2024-11-08T16:06:29.493370Z",
     "start_time": "2024-11-08T16:06:29.480273Z"
    }
   },
   "source": [
    "users = pd.DataFrame()\n",
    "users['user_id'] = range(NUM_USERS)\n",
    "users['is_professor'] = np.random.choice([False, True], p=[1 - PROFESSOR_RATE, PROFESSOR_RATE], size=NUM_USERS)\n",
    "users['is_student'] = np.random.choice([False, True], p=[1 - STUDENT_RATE, STUDENT_RATE], size=NUM_USERS)\n",
    "users['first_name'] = np.random.choice(FIRST_NAMES, size=NUM_USERS)\n",
    "users['last_name'] = np.random.choice(LAST_NAMES, size=NUM_USERS)\n",
    "users['rating_avg'] = np.random.normal(loc=2.5, scale=1, size=NUM_USERS).round(1).clip(min=0, max=5)\n",
    "users['email'] = users['last_name'].str.lower() + '.' + users['first_name'].str.lower() + \"@gmail.rom\""
   ],
   "outputs": [],
   "execution_count": 258
  },
  {
   "cell_type": "code",
   "metadata": {
    "ExecuteTime": {
     "end_time": "2024-11-08T16:06:29.784214Z",
     "start_time": "2024-11-08T16:06:29.778885Z"
    }
   },
   "source": [
    "num_professors = users['is_professor'].sum()\n",
    "num_students = users['is_student'].sum()"
   ],
   "outputs": [],
   "execution_count": 259
  },
  {
   "cell_type": "code",
   "metadata": {
    "ExecuteTime": {
     "end_time": "2024-11-08T16:06:30.157873Z",
     "start_time": "2024-11-08T16:06:30.148465Z"
    }
   },
   "source": [
    "users.loc[users['is_professor'] == True, 'teaching_subject'] = np.random.choice(data['subject_eng'].values, num_professors, p = data['professor_rate'])\n",
    "\n",
    "users.loc[users['is_student'] == True, 'learning_subject'] = np.random.choice(data['subject_eng'].values, num_students, p = data['student_rate'])\n",
    "\n",
    "\n",
    "users = users[users['teaching_subject'] != users['learning_subject']]\n",
    "users = users.dropna(subset = ['teaching_subject', 'learning_subject'], how = 'all')\n"
   ],
   "outputs": [],
   "execution_count": 260
  },
  {
   "metadata": {
    "ExecuteTime": {
     "end_time": "2024-11-08T16:06:30.530596Z",
     "start_time": "2024-11-08T16:06:30.523308Z"
    }
   },
   "cell_type": "code",
   "source": "users.to_csv('users.csv', index = False)",
   "outputs": [],
   "execution_count": 261
  },
  {
   "cell_type": "code",
   "metadata": {
    "ExecuteTime": {
     "end_time": "2024-11-08T16:06:30.990908Z",
     "start_time": "2024-11-08T16:06:30.986499Z"
    }
   },
   "source": "users = users.drop(columns = ['is_professor', 'is_student'])",
   "outputs": [],
   "execution_count": 262
  },
  {
   "cell_type": "code",
   "metadata": {
    "ExecuteTime": {
     "end_time": "2024-11-08T16:06:31.513327Z",
     "start_time": "2024-11-08T16:06:31.485925Z"
    }
   },
   "source": [
    "edges = pd.merge(users, users, left_on='teaching_subject', right_on='learning_subject', suffixes=('_teacher', '_student'))\n",
    "edges = edges.dropna(subset=['teaching_subject_teacher', 'learning_subject_student'])\n",
    "edges = edges[['user_id_teacher', 'user_id_student', 'teaching_subject_teacher']]\n",
    "edges = edges.rename(columns = {'teaching_subject_teacher' : 'teaching'})"
   ],
   "outputs": [],
   "execution_count": 263
  },
  {
   "cell_type": "code",
   "metadata": {
    "ExecuteTime": {
     "end_time": "2024-11-08T16:06:32.056438Z",
     "start_time": "2024-11-08T16:06:32.044858Z"
    }
   },
   "source": [
    "edges.to_csv('teacher_student_connections.csv', index = False)"
   ],
   "outputs": [],
   "execution_count": 264
  },
  {
   "cell_type": "code",
   "execution_count": null,
   "metadata": {
    "ExecuteTime": {
     "end_time": "2024-11-08T12:44:22.845834Z",
     "start_time": "2024-11-08T12:44:22.844312Z"
    }
   },
   "outputs": [],
   "source": []
  }
 ],
 "metadata": {
  "kernelspec": {
   "display_name": "base",
   "language": "python",
   "name": "python3"
  },
  "language_info": {
   "codemirror_mode": {
    "name": "ipython",
    "version": 3
   },
   "file_extension": ".py",
   "mimetype": "text/x-python",
   "name": "python",
   "nbconvert_exporter": "python",
   "pygments_lexer": "ipython3",
   "version": "3.11.5"
  }
 },
 "nbformat": 4,
 "nbformat_minor": 2
}
