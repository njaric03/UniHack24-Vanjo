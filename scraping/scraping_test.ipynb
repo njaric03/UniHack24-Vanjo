{
 "cells": [
  {
   "cell_type": "code",
   "id": "initial_id",
   "metadata": {
    "collapsed": true,
    "ExecuteTime": {
     "end_time": "2024-11-08T11:49:50.800242Z",
     "start_time": "2024-11-08T11:49:50.797456Z"
    }
   },
   "source": [
    "import requests\n",
    "import pandas as pd\n",
    "from bs4 import BeautifulSoup"
   ],
   "outputs": [],
   "execution_count": 89
  },
  {
   "metadata": {
    "ExecuteTime": {
     "end_time": "2024-11-08T11:49:50.809870Z",
     "start_time": "2024-11-08T11:49:50.804407Z"
    }
   },
   "cell_type": "code",
   "source": [
    "SUBJECTS = {\n",
    "    \"matematica\": \"mathematics\",\n",
    "    \"informatică\": \"computer science\",\n",
    "    \"biologie\": \"biology\",\n",
    "    \"chimie\": \"chemistry\",\n",
    "    \"fizică\": \"physics\",\n",
    "    \"geografie\": \"geography\",\n",
    "    \"istorie\": \"history\",\n",
    "    \"limba română\": \"Romanian language\",\n",
    "    \"limba engleză\": \"English language\",\n",
    "    \"limba franceză\": \"French language\",\n",
    "    \"limba germană\": \"German language\",\n",
    "    \"limba spaniolă\": \"Spanish language\",\n",
    "    \"economie\": \"economics\",\n",
    "    \"filosofie\": \"philosophy\",\n",
    "    \"psihologie\": \"psychology\",\n",
    "    \"sociologie\": \"sociology\",\n",
    "    \"educație civică\": \"civic education\",\n",
    "    \"științe politice\": \"political science\",\n",
    "    \"arte vizuale\": \"visual arts\",\n",
    "    \"muzică\": \"music\",\n",
    "    \"educație fizică\": \"physical education\",\n",
    "    \"tehnologia informației\": \"information technology\",\n",
    "    \"religie\": \"religion\",\n",
    "    \"management\": \"management\",\n",
    "    \"contabilitate\": \"accounting\"\n",
    "}"
   ],
   "id": "1f2c4c5a590c7a50",
   "outputs": [],
   "execution_count": 90
  },
  {
   "metadata": {
    "ExecuteTime": {
     "end_time": "2024-11-08T11:49:50.851684Z",
     "start_time": "2024-11-08T11:49:50.848652Z"
    }
   },
   "cell_type": "code",
   "source": [
    "\n",
    "URL_TEMPLATE_PROFESSORS = 'https://www.meetnlearn.ro/api/v2/teachers/search/results?lang=ro&page=3&query={}&location=&online=0&identityVerification=0&freeTrialLesson=0&fastResponse=0&minimumRating=0'\n",
    "URL_TEMPLATE_STUDENTS = 'https://www.meetnlearn.ro/solicitare-de-meditatii?q={}'"
   ],
   "id": "7670aaadcd7c2f57",
   "outputs": [],
   "execution_count": 91
  },
  {
   "metadata": {
    "ExecuteTime": {
     "end_time": "2024-11-08T11:49:50.895890Z",
     "start_time": "2024-11-08T11:49:50.892604Z"
    }
   },
   "cell_type": "code",
   "source": [
    "def get_professor_count(url : str):\n",
    "    response = requests.request('GET', url)\n",
    "    data = response.json()\n",
    "    return data['data']['totalTeachersCount']\n",
    "\n",
    "def get_students_count(url : str):\n",
    "    response = requests.request('GET', url)\n",
    "    soup = BeautifulSoup(response.text)\n",
    "    col = soup.select_one('body > div.container > div.d-lg-flex.gap-3.align-items-start.mb-5.pb-3 > div.col')\n",
    "    cnt = len([x for x in col.findChildren('div', recursive = False) if 'bg-white' in x['class']])\n",
    "    return cnt"
   ],
   "id": "7e15467712d8889a",
   "outputs": [],
   "execution_count": 92
  },
  {
   "metadata": {
    "ExecuteTime": {
     "end_time": "2024-11-08T11:49:50.940460Z",
     "start_time": "2024-11-08T11:49:50.938133Z"
    }
   },
   "cell_type": "code",
   "source": [
    "def scrape_subject(subject : str):\n",
    "    \n",
    "    url_professors = URL_TEMPLATE_PROFESSORS.format(subject)\n",
    "    url_students = URL_TEMPLATE_STUDENTS.format(subject)\n",
    "    \n",
    "    professors_count = get_professor_count(url_professors)\n",
    "    student_count = get_students_count(url_students)\n",
    "    \n",
    "    print(f'Student count for {subject} is {student_count}')\n",
    "    print(f'Professor count for {subject} is {professors_count}')\n",
    "    \n",
    "    return professors_count, student_count"
   ],
   "id": "cb70b66293d2dbdc",
   "outputs": [],
   "execution_count": 93
  },
  {
   "metadata": {
    "jupyter": {
     "is_executing": true
    },
    "ExecuteTime": {
     "start_time": "2024-11-08T11:49:50.984166Z"
    }
   },
   "cell_type": "code",
   "source": [
    "results = []\n",
    "for subject_ro, subject_eng in SUBJECTS.items():\n",
    "    pc, sc = scrape_subject(subject_ro)\n",
    "    results.append((subject_ro, subject_eng, pc, sc))"
   ],
   "id": "83228e1f1035f2d7",
   "outputs": [
    {
     "name": "stdout",
     "output_type": "stream",
     "text": [
      "Student count for matematica is 12\n",
      "Professor count for matematica is 562\n",
      "Student count for informatică is 4\n",
      "Professor count for informatică is 102\n",
      "Student count for biologie is 1\n",
      "Professor count for biologie is 186\n",
      "Student count for chimie is 4\n",
      "Professor count for chimie is 117\n",
      "Student count for fizică is 2\n",
      "Professor count for fizică is 82\n"
     ]
    }
   ],
   "execution_count": null
  },
  {
   "metadata": {
    "ExecuteTime": {
     "end_time": "2024-11-08T11:22:10.974934Z",
     "start_time": "2024-11-08T11:22:10.970345Z"
    }
   },
   "cell_type": "code",
   "source": [
    "results = pd.DataFrame(results)\n",
    "results.columns = ['subject_ro', 'subject_eng', 'professor_count', 'student_count']"
   ],
   "id": "285d7a93b4df7f50",
   "outputs": [],
   "execution_count": 84
  },
  {
   "metadata": {
    "ExecuteTime": {
     "end_time": "2024-11-08T11:23:10.679293Z",
     "start_time": "2024-11-08T11:23:10.676057Z"
    }
   },
   "cell_type": "code",
   "source": "results.to_csv('results.csv', index = False)",
   "id": "e4085d79adbff98e",
   "outputs": [],
   "execution_count": 88
  },
  {
   "metadata": {},
   "cell_type": "code",
   "outputs": [],
   "execution_count": null,
   "source": "",
   "id": "8f25ef631287d7ee"
  }
 ],
 "metadata": {
  "kernelspec": {
   "display_name": "Python 3",
   "language": "python",
   "name": "python3"
  },
  "language_info": {
   "codemirror_mode": {
    "name": "ipython",
    "version": 2
   },
   "file_extension": ".py",
   "mimetype": "text/x-python",
   "name": "python",
   "nbconvert_exporter": "python",
   "pygments_lexer": "ipython2",
   "version": "2.7.6"
  }
 },
 "nbformat": 4,
 "nbformat_minor": 5
}
