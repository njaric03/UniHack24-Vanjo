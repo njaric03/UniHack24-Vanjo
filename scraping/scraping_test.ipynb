{
 "cells": [
  {
   "cell_type": "code",
   "id": "initial_id",
   "metadata": {
    "collapsed": true,
    "ExecuteTime": {
     "end_time": "2024-11-08T13:57:34.106504Z",
     "start_time": "2024-11-08T13:57:33.876195Z"
    }
   },
   "source": [
    "import requests\n",
    "import pandas as pd\n",
    "from bs4 import BeautifulSoup"
   ],
   "outputs": [],
   "execution_count": 1
  },
  {
   "metadata": {
    "ExecuteTime": {
     "end_time": "2024-11-08T13:57:34.112979Z",
     "start_time": "2024-11-08T13:57:34.110363Z"
    }
   },
   "cell_type": "code",
   "source": [
    "SUBJECTS = {\n",
    "    \"matematica\": \"Mathematics\",\n",
    "    \"informatică\": \"Computer science\",\n",
    "    \"biologie\": \"Biology\",\n",
    "    \"chimie\": \"Chemistry\",\n",
    "    \"fizică\": \"Physics\",\n",
    "    \"geografie\": \"Geography\",\n",
    "    \"istorie\": \"History\",\n",
    "    \"limba română\": \"Romanian language\",\n",
    "    \"limba engleză\": \"English language\",\n",
    "    \"limba franceză\": \"French language\",\n",
    "    \"limba germană\": \"German language\",\n",
    "    \"limba spaniolă\": \"Spanish language\",\n",
    "    \"economie\": \"Economics\",\n",
    "    \"filosofie\": \"Philosophy\",\n",
    "    \"psihologie\": \"Psychology\",\n",
    "    \"sociologie\": \"Sociology\",\n",
    "    \"educație civică\": \"Civic education\",\n",
    "    \"științe politice\": \"Political science\",\n",
    "    \"arte vizuale\": \"Visual arts\",\n",
    "    \"muzică\": \"Music\",\n",
    "    \"educație fizică\": \"Physical education\",\n",
    "    \"tehnologia informației\": \"Information technology\",\n",
    "    \"religie\": \"Religion\",\n",
    "    \"management\": \"Management\",\n",
    "    \"contabilitate\": \"Accounting\"\n",
    "}"
   ],
   "id": "1f2c4c5a590c7a50",
   "outputs": [],
   "execution_count": 2
  },
  {
   "metadata": {
    "ExecuteTime": {
     "end_time": "2024-11-08T13:57:35.375602Z",
     "start_time": "2024-11-08T13:57:35.373556Z"
    }
   },
   "cell_type": "code",
   "source": [
    "\n",
    "URL_TEMPLATE_PROFESSORS = 'https://www.meetnlearn.ro/api/v2/teachers/search/results?lang=ro&page=3&query={}&location=&online=0&identityVerification=0&freeTrialLesson=0&fastResponse=0&minimumRating=0'\n",
    "URL_TEMPLATE_STUDENTS = 'https://www.meetnlearn.ro/solicitare-de-meditatii?q={}'"
   ],
   "id": "7670aaadcd7c2f57",
   "outputs": [],
   "execution_count": 3
  },
  {
   "metadata": {
    "ExecuteTime": {
     "end_time": "2024-11-08T13:57:36.341626Z",
     "start_time": "2024-11-08T13:57:36.337501Z"
    }
   },
   "cell_type": "code",
   "source": [
    "def get_professor_count(url : str):\n",
    "    response = requests.request('GET', url)\n",
    "    data = response.json()\n",
    "    return data['data']['totalTeachersCount']\n",
    "\n",
    "def get_students_count(url : str):\n",
    "    response = requests.request('GET', url)\n",
    "    soup = BeautifulSoup(response.text)\n",
    "    col = soup.select_one('body > div.container > div.d-lg-flex.gap-3.align-items-start.mb-5.pb-3 > div.col')\n",
    "    cnt = len([x for x in col.findChildren('div', recursive = False) if 'bg-white' in x['class']])\n",
    "    return cnt"
   ],
   "id": "7e15467712d8889a",
   "outputs": [],
   "execution_count": 4
  },
  {
   "metadata": {
    "ExecuteTime": {
     "end_time": "2024-11-08T13:57:37.075329Z",
     "start_time": "2024-11-08T13:57:37.071652Z"
    }
   },
   "cell_type": "code",
   "source": [
    "def scrape_subject(subject : str):\n",
    "    \n",
    "    url_professors = URL_TEMPLATE_PROFESSORS.format(subject)\n",
    "    url_students = URL_TEMPLATE_STUDENTS.format(subject)\n",
    "    \n",
    "    professors_count = get_professor_count(url_professors)\n",
    "    student_count = get_students_count(url_students)\n",
    "    \n",
    "    print(f'Student count for {subject} is {student_count}')\n",
    "    print(f'Professor count for {subject} is {professors_count}')\n",
    "    \n",
    "    return professors_count, student_count"
   ],
   "id": "cb70b66293d2dbdc",
   "outputs": [],
   "execution_count": 5
  },
  {
   "metadata": {
    "ExecuteTime": {
     "end_time": "2024-11-08T13:59:18.746619Z",
     "start_time": "2024-11-08T13:57:57.225661Z"
    }
   },
   "cell_type": "code",
   "source": [
    "results = []\n",
    "for subject_ro, subject_eng in SUBJECTS.items():\n",
    "    pc, sc = scrape_subject(subject_ro)\n",
    "    results.append((subject_ro, subject_eng, pc, sc))"
   ],
   "id": "83228e1f1035f2d7",
   "outputs": [
    {
     "name": "stdout",
     "output_type": "stream",
     "text": [
      "Student count for matematica is 12\n",
      "Professor count for matematica is 562\n",
      "Student count for informatică is 4\n",
      "Professor count for informatică is 102\n",
      "Student count for biologie is 1\n",
      "Professor count for biologie is 186\n",
      "Student count for chimie is 3\n",
      "Professor count for chimie is 117\n",
      "Student count for fizică is 2\n",
      "Professor count for fizică is 82\n",
      "Student count for geografie is 0\n",
      "Professor count for geografie is 72\n",
      "Student count for istorie is 2\n",
      "Professor count for istorie is 148\n",
      "Student count for limba română is 3\n",
      "Professor count for limba română is 431\n",
      "Student count for limba engleză is 2\n",
      "Professor count for limba engleză is 532\n",
      "Student count for limba franceză is 2\n",
      "Professor count for limba franceză is 129\n",
      "Student count for limba germană is 3\n",
      "Professor count for limba germană is 95\n",
      "Student count for limba spaniolă is 1\n",
      "Professor count for limba spaniolă is 7\n",
      "Student count for economie is 0\n",
      "Professor count for economie is 23\n",
      "Student count for filosofie is 0\n",
      "Professor count for filosofie is 5\n",
      "Student count for psihologie is 1\n",
      "Professor count for psihologie is 29\n",
      "Student count for sociologie is 0\n",
      "Professor count for sociologie is 9\n",
      "Student count for educație civică is 0\n",
      "Professor count for educație civică is 1\n",
      "Student count for științe politice is 0\n",
      "Professor count for științe politice is 8\n",
      "Student count for arte vizuale is 0\n",
      "Professor count for arte vizuale is 3\n",
      "Student count for muzică is 0\n",
      "Professor count for muzică is 25\n",
      "Student count for educație fizică is 0\n",
      "Professor count for educație fizică is 1\n",
      "Student count for tehnologia informației is 0\n",
      "Professor count for tehnologia informației is 15\n",
      "Student count for religie is 0\n",
      "Professor count for religie is 1\n",
      "Student count for management is 0\n",
      "Professor count for management is 1\n",
      "Student count for contabilitate is 0\n",
      "Professor count for contabilitate is 23\n"
     ]
    }
   ],
   "execution_count": 6
  },
  {
   "metadata": {
    "ExecuteTime": {
     "end_time": "2024-11-08T13:59:52.461864Z",
     "start_time": "2024-11-08T13:59:52.459069Z"
    }
   },
   "cell_type": "code",
   "source": [
    "results = pd.DataFrame(results)\n",
    "results.columns = ['subject_ro', 'subject_eng', 'professor_count', 'student_count']"
   ],
   "id": "285d7a93b4df7f50",
   "outputs": [],
   "execution_count": 7
  },
  {
   "metadata": {
    "ExecuteTime": {
     "end_time": "2024-11-08T13:59:53.248598Z",
     "start_time": "2024-11-08T13:59:53.244272Z"
    }
   },
   "cell_type": "code",
   "source": "results.to_csv('results.csv', index = False)",
   "id": "e4085d79adbff98e",
   "outputs": [],
   "execution_count": 8
  },
  {
   "metadata": {
    "ExecuteTime": {
     "end_time": "2024-11-08T12:07:56.286995881Z",
     "start_time": "2024-11-08T11:51:19.657549Z"
    }
   },
   "cell_type": "code",
   "source": "",
   "id": "8f25ef631287d7ee",
   "outputs": [],
   "execution_count": null
  }
 ],
 "metadata": {
  "kernelspec": {
   "display_name": "Python 3",
   "language": "python",
   "name": "python3"
  },
  "language_info": {
   "codemirror_mode": {
    "name": "ipython",
    "version": 2
   },
   "file_extension": ".py",
   "mimetype": "text/x-python",
   "name": "python",
   "nbconvert_exporter": "python",
   "pygments_lexer": "ipython2",
   "version": "2.7.6"
  }
 },
 "nbformat": 4,
 "nbformat_minor": 5
}
